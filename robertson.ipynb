{
 "cells": [
  {
   "cell_type": "markdown",
   "metadata": {},
   "source": [
    "# The Robertson chemical problem"
   ]
  },
  {
   "cell_type": "markdown",
   "metadata": {},
   "source": [
    "## Mathematical modelling\n",
    "\n",
    "This problem is often used to test solvers due to its stiffness. The problem describes a reactor in which there is one fast reaction and a slow one. The reactions are given below:\n",
    "\n",
    "\\begin{align*}\n",
    "      A &\\overset{k_1}{\\longrightarrow} B\\\\\n",
    "      B+B &\\overset{k_2}{\\longrightarrow} C+B\\\\\n",
    "      B+C &\\overset{k_3}{\\longrightarrow} A+C\n",
    "\\end{align*}\n",
    "\n",
    "\n",
    "Such reactions can be described by the following equations:\n",
    "\\begin{align*}\n",
    "    C'_A &= -k_1 C_A + k_3 C_B C_C \\\\\n",
    "    C'_B &=  k_1 C_A - k_3 C_B C_C - k_2 C_B^2 \\\\\n",
    "    1 &= C_A + C_B + C_C\n",
    "\\end{align*}\n",
    "with the initial concentrations $C_A(0)=1, C_B(0)=0, C_C(0)=0$. Note that in order to have a DAEs system, we have added the constraint of the mass conservation.\n",
    "\n",
    "\n",
    "We have chosen the following value for the kinetics constants as follows:\n",
    "\n",
    "\\begin{align*}\n",
    "    k_1 &= 0.04 \\\\\n",
    "    k_2 &= 3e7 \\\\\n",
    "    k_3 &= 1e4\n",
    "\\end{align*}\n",
    "\n",
    "Therefore, the first reaction is slow while the second one is fast.\n",
    "\n",
    "The corresponding ODEs system is:\n",
    "\n",
    "\\begin{align*}\n",
    "    C'_A &= -k_1 C_A + k_3 C_B C_C \\\\\n",
    "    C'_B &=  k_1 C_A - k_3 C_B C_C - k_2 C_B^2 \\\\\n",
    "    C'_C &= k_2 C_B^2\n",
    "\\end{align*}\n"
   ]
  },
  {
   "cell_type": "markdown",
   "metadata": {},
   "source": [
    "## Solving those systems with DAEs solvers"
   ]
  },
  {
   "cell_type": "code",
   "execution_count": 38,
   "metadata": {},
   "outputs": [],
   "source": [
    "# import solvers\n",
    "from solvers.bdfSolver import BDFModified\n",
    "from solvers.Final import SABMScipy\n",
    "from solvers.radau import RadauModified\n",
    "from solvers.rosScipyFinal import Rosenbrock"
   ]
  },
  {
   "cell_type": "code",
   "execution_count": 39,
   "metadata": {},
   "outputs": [],
   "source": [
    "# import other useful modules\n",
    "from time import time\n",
    "from matplotlib import pyplot as plt\n",
    "from scipy.integrate import solve_ivp\n",
    "import numpy as np"
   ]
  },
  {
   "cell_type": "markdown",
   "metadata": {},
   "source": [
    "Declare the constants of our chemical problem"
   ]
  },
  {
   "cell_type": "code",
   "execution_count": 40,
   "metadata": {},
   "outputs": [],
   "source": [
    "k1 = 0.04\n",
    "k2 = 3e7\n",
    "k3 = 1e4\n",
    "tspan = [0, 4e6]\n",
    "y0 = [1,0,0]"
   ]
  },
  {
   "cell_type": "markdown",
   "metadata": {},
   "source": [
    "Create the function describing the DAEs systems such that $M \\dot{y} = f(t,y)$:"
   ]
  },
  {
   "cell_type": "code",
   "execution_count": 41,
   "metadata": {},
   "outputs": [],
   "source": [
    "# index 1 DAE system\n",
    "def robertsdae(t, y):\n",
    "    return np.array([-k1*y[0] + k3*y[1]*y[2],\n",
    "                     k1*y[0] - k3*y[1]*y[2] - k2*y[1]**2,\n",
    "                     y[0] + y[1] + y[2] - 1])\n",
    "\n",
    "# mass matrix\n",
    "M = np.eye(3)\n",
    "M[-1, -1] = 0\n",
    "\n",
    "# right hand side of the ODE part of our DAE system\n",
    "def fun(t, y, x):\n",
    "    return np.array([-k1*y[0] + k3*y[1]*x[0], \n",
    "                     k2*y[0] - k3*y[1]*x[0] - k2*y[1]**2])\n",
    "\n",
    "# constraints\n",
    "def gun(t, y, x):\n",
    "    return np.array([y[0] + y[1] + x[0] - 1])\n",
    "\n"
   ]
  },
  {
   "cell_type": "markdown",
   "metadata": {},
   "source": [
    "Parameters of the DAEs solvers similar to those scipy solve_ivp:"
   ]
  },
  {
   "cell_type": "code",
   "execution_count": 42,
   "metadata": {},
   "outputs": [],
   "source": [
    "kwargsBDF = {\n",
    "    'fun': robertsdae,\n",
    "    't_span': tspan,\n",
    "    'y0': y0,\n",
    "    'mass': M,\n",
    "    'method': BDFModified,\n",
    "    'rtol': 1e-5,\n",
    "    'atol': 1e-5,\n",
    "    'first_step': 1e-8,\n",
    "}\n",
    "\n",
    "kwargsRadau = {\n",
    "    'fun': robertsdae,\n",
    "    't_span': tspan,\n",
    "    'y0': y0,\n",
    "    'mass': M,\n",
    "    'method': RadauModified,\n",
    "    'rtol': 1e-5,\n",
    "    'atol': 1e-5,\n",
    "    'first_step': 1e-8,\n",
    "    'dense_output': False\n",
    "}\n",
    "\n",
    "kwargsSEABM = {\n",
    "    'fun': fun,\n",
    "    't_span': tspan,\n",
    "    'y0': y0,\n",
    "    'method': SABMScipy,\n",
    "    'gun': gun,\n",
    "    'num_diff': 2,\n",
    "    'order': 2,\n",
    "    'atol': 1e-5,\n",
    "    'rtol': 1e-5,\n",
    "    'mode': 'Implicit'\n",
    "}"
   ]
  },
  {
   "cell_type": "markdown",
   "metadata": {},
   "source": [
    "Solve the DAEs system using the scipy solve_ivp function:"
   ]
  },
  {
   "cell_type": "code",
   "execution_count": 43,
   "metadata": {},
   "outputs": [
    {
     "name": "stdout",
     "output_type": "stream",
     "text": [
      "Success: True\n",
      "Temps de calcul : 0.07978606224060059\n"
     ]
    }
   ],
   "source": [
    "kwargs = kwargsRadau\n",
    "\n",
    "before = time()\n",
    "sol = solve_ivp(**kwargs)\n",
    "print(f'Success: {sol.success}')\n",
    "print(f'Temps de calcul : {time()-before}')\n",
    "t = sol.t\n",
    "\n",
    "C_a = sol.y[0,:]\n",
    "C_b = sol.y[1,:]\n",
    "C_c = sol.y[2,:]"
   ]
  },
  {
   "cell_type": "markdown",
   "metadata": {},
   "source": [
    "Solve the ODEs system"
   ]
  },
  {
   "cell_type": "code",
   "execution_count": 44,
   "metadata": {},
   "outputs": [],
   "source": [
    "def solve_ODE():\n",
    "    def robertsode(t, y):\n",
    "        return np.array([-k1*y[0] + k3*y[1]*y[2],\n",
    "                        k1*y[0] - k3*y[1]*y[2] - k2*y[1]**2,\n",
    "                        k2 * y[1]**2])\n",
    "\n",
    "    y0 = np.array([1, 0, 0])\n",
    "    sol_ODE = solve_ivp(fun=robertsode, t_span=[0, sol.t[-1]], y0=y0, rtol=1e-12,\n",
    "                        atol=1e-12, method='Radau', t_eval=sol.t)\n",
    "    return sol_ODE.t, sol_ODE.y[0, :], sol_ODE.y[1, :], sol_ODE.y[2, :]\n",
    "\n",
    "\n",
    "t_ODE, a_ODE, b_ODE, c_ODE = solve_ODE()"
   ]
  },
  {
   "cell_type": "markdown",
   "metadata": {},
   "source": [
    "Plot the evolution of the chemical concentrations over time:"
   ]
  },
  {
   "cell_type": "code",
   "execution_count": 45,
   "metadata": {},
   "outputs": [
    {
     "data": {
      "image/png": "[encoded data removed]",
      "text/plain": [
       "<Figure size 432x288 with 1 Axes>"
      ]
     },
     "metadata": {
      "needs_background": "light"
     },
     "output_type": "display_data"
    }
   ],
   "source": [
    "plt.figure()\n",
    "plt.semilogx(t, C_a, label = r\"$C_A$\")\n",
    "plt.semilogx(t, 10000*C_b, label = r\"1e4 $C_B$\")\n",
    "plt.semilogx(t, C_c, label = r\"$C_C$\")\n",
    "plt.xlabel(\"Time [s]\")\n",
    "plt.ylabel(\"Concentration [mol/L]\")\n",
    "plt.title(\"Robertson reactions evolution\")\n",
    "plt.grid()\n",
    "plt.legend()\n",
    "plt.show()"
   ]
  },
  {
   "cell_type": "markdown",
   "metadata": {},
   "source": [
    "Plot the error of our DAEs solver:"
   ]
  },
  {
   "cell_type": "code",
   "execution_count": 46,
   "metadata": {},
   "outputs": [
    {
     "data": {
      "image/png": "[encoded data removed]",
      "text/plain": [
       "<Figure size 432x288 with 1 Axes>"
      ]
     },
     "metadata": {
      "needs_background": "light"
     },
     "output_type": "display_data"
    }
   ],
   "source": [
    "plt.figure()\n",
    "plt.loglog(t, abs(a_ODE - C_a), label=r'Error in $C_A$')\n",
    "plt.loglog(t, abs(b_ODE - C_b), label=r'Error in $C_B$')\n",
    "plt.loglog(t, abs(c_ODE - C_c), label=r'Error in $C_C$')\n",
    "plt.title(\n",
    "    f'Error plot of {kwargs[\"method\"].__name__} method for the Robertson example')\n",
    "plt.xlabel('Time [s]')\n",
    "plt.ylabel('Error')\n",
    "plt.grid()\n",
    "plt.legend()\n",
    "plt.show()"
   ]
  }
 ],
 "metadata": {
  "interpreter": {
   "hash": "bf512566ae9d065e75d76884dd4d3df545333ba35243aa7a394deb5ff4e39579"
  },
  "kernelspec": {
   "display_name": "Python 3.8.0 64-bit",
   "language": "python",
   "name": "python3"
  },
  "language_info": {
   "codemirror_mode": {
    "name": "ipython",
    "version": 3
   },
   "file_extension": ".py",
   "mimetype": "text/x-python",
   "name": "python",
   "nbconvert_exporter": "python",
   "pygments_lexer": "ipython3",
   "version": "3.8.0"
  },
  "orig_nbformat": 4
 },
 "nbformat": 4,
 "nbformat_minor": 2
}
