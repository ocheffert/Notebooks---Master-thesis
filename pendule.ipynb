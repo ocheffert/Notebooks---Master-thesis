{
 "cells": [
  {
   "cell_type": "markdown",
   "metadata": {},
   "source": [
    "# Solve the simple pendulum problem with DAEs solvers"
   ]
  },
  {
   "cell_type": "markdown",
   "metadata": {},
   "source": [
    "## Mathematical modelling"
   ]
  },
  {
   "cell_type": "code",
   "execution_count": 1,
   "metadata": {},
   "outputs": [
    {
     "data": {
      "image/png": "[encoded data removed]",
      "text/plain": [
       "<IPython.core.display.Image object>"
      ]
     },
     "execution_count": 1,
     "metadata": {},
     "output_type": "execute_result"
    }
   ],
   "source": [
    "from IPython.display import Image\n",
    "Image(filename=\"img/pendule.png\")"
   ]
  },
  {
   "cell_type": "markdown",
   "metadata": {},
   "source": [
    "\n",
    "\n",
    "One can use the Euler-Lagrange equation:\n",
    "$$\\frac{d}{dt}\\left( \\frac{\\partial}{\\partial \\dot{\\mathbf{q}}} \\mathcal{L}(\\mathbf{q}, \\dot{\\mathbf{q}}) \\right) = \\frac{\\partial}{\\partial \\mathbf{q}} \\mathcal{L}(\\mathbf{q}, \\dot{\\mathbf{q}})$$\n",
    "\n",
    "with:\n",
    "    $$\\mathcal{L}(\\mathbf{q}, \\dot{\\mathbf{q}}) = T - U - \\lambda C$$\n",
    "    such that:\n",
    "- $T = \\frac{m}{2} (\\dot{x}^2 + \\dot{y}^2)$ (kinetic energy) \n",
    "- $U = mgy$ (potential energy)\n",
    "- $C = 0.5 (x^2 + y^2 - L^2)$ (constraint)\n",
    "- $(x,y)$ are the coordinates of the mass at the end of the pendulum\n",
    "- $L$ is the length of the pendulum and $m$ the mass of the pendulum"
   ]
  },
  {
   "cell_type": "markdown",
   "metadata": {},
   "source": [
    "Then apply the Euler-Lagrange equation to mecanical constrained systems:\n",
    "\n",
    "$$\\frac{d}{dt}\\left( \\frac{\\partial}{\\partial \\dot{\\mathbf{q}}} T(\\mathbf{q}, \\dot{\\mathbf{q}}) \\right) = \\frac{\\partial}{\\partial \\mathbf{q}} T(\\mathbf{q}, \\dot{\\mathbf{q}}) + f(t, \\mathbf{q},\\dot{\\mathbf{q}}) + \\mathbf{G}^T \\lambda$$\n",
    "$$0 = \\phi(\\mathbf{q})$$\n",
    "\n",
    "such that\n",
    "\n",
    "- $\\mathbf{q}$ is the vector of state variables\n",
    "- $f$ are the external forces (here: the weight)\n",
    "- $\\phi(\\mathbf{q})$ is the contraint such that $\\mathbf{G} = d\\phi(\\mathbf{q})/dq$\n",
    "\n",
    "Applying this Euler-Equation to our pendulum gives us:"
   ]
  },
  {
   "cell_type": "markdown",
   "metadata": {},
   "source": [
    "\\begin{align*}\n",
    "\\left\\{\n",
    "\\begin{aligned}\n",
    "\\dot{x} &= u \\\\\n",
    "\\dot{y} &= v \\\\\n",
    "\\dot{u} &= \\lambda x \\\\\n",
    "\\dot{v} &= \\lambda y - g \\\\\n",
    "0 &= x^2 + y^2 - L^2\n",
    "\\end{aligned}\\right.\n",
    "\\end{align*}\n",
    "\n",
    "This is an index 3 DAE system since 3 successive derivations of the constraint(s) must be applied to obtain an ODE. Thus, deriving twice the constraint gives us the following index 1 DAE system:\n",
    "\n",
    "\\begin{align*}\n",
    "\\left\\{\n",
    "\\begin{aligned}\n",
    "\\dot{x} &= u \\\\\n",
    "\\dot{y} &= v \\\\\n",
    "\\dot{u} &= \\lambda x \\\\\n",
    "\\dot{v} &= \\lambda y - g \\\\\n",
    "L^2 \\lambda &= gy - u^2 - v^2\n",
    "\\end{aligned}\\right.\n",
    "\\end{align*}\n",
    "\n",
    "The ODE system can be simplified using angular coordinates such that $x = L \\, sin(\\theta)$ and $y= -L \\, cos(\\theta)$:\n",
    "\\begin{align*}\n",
    "\\left\\{\n",
    "\\begin{aligned}\n",
    "\\dot{\\theta} &= \\omega\\\\\n",
    "\\dot{\\omega} &= - \\frac{g}{L} sin(\\theta)\n",
    "\\end{aligned}\\right.\n",
    "\\end{align*}"
   ]
  },
  {
   "cell_type": "markdown",
   "metadata": {},
   "source": [
    "## Solving those systems with DAEs solvers"
   ]
  },
  {
   "cell_type": "code",
   "execution_count": 2,
   "metadata": {},
   "outputs": [],
   "source": [
    "# import solvers\n",
    "from solvers.bdf import BDFModified\n",
    "from solvers.radau import RadauModified\n",
    "from solvers.rosenbrock import Rosenbrock\n",
    "from solvers.sabm import SABM"
   ]
  },
  {
   "cell_type": "code",
   "execution_count": 3,
   "metadata": {},
   "outputs": [],
   "source": [
    "# import other useful modules\n",
    "from time import time\n",
    "from matplotlib import pyplot as plt\n",
    "from scipy.integrate import solve_ivp\n",
    "import numpy as np"
   ]
  },
  {
   "cell_type": "markdown",
   "metadata": {},
   "source": [
    "Declare the constants of the pendulum problem:"
   ]
  },
  {
   "cell_type": "code",
   "execution_count": 4,
   "metadata": {},
   "outputs": [],
   "source": [
    "L = 1\n",
    "g = 9.81\n",
    "m = 1\n",
    "Tend = 2*np.pi*np.sqrt(L/g)\n",
    "tspan = [0, Tend]\n",
    "y0 = [1, 0, 0, 0, 0]"
   ]
  },
  {
   "cell_type": "markdown",
   "metadata": {},
   "source": [
    "Create the function describing the DAEs systems such that $M \\dot{y} = f(t,y)$:"
   ]
  },
  {
   "cell_type": "code",
   "execution_count": 5,
   "metadata": {},
   "outputs": [],
   "source": [
    "# index 3 DAE system, right hand side (rhs) function\n",
    "def f_pendule_index3(t, y):\n",
    "    # y = x, y, u, v, l\n",
    "    res = np.zeros(5)\n",
    "    res[0] = y[2]\n",
    "    res[1] = y[3]\n",
    "    res[2] = y[4]*y[0]\n",
    "    res[3] = y[4]*y[1] - g\n",
    "    res[4] = y[0]**2 + y[1]**2 - L**2\n",
    "    return res\n",
    "\n",
    "\n",
    "# index 1 DAE system, rhs function\n",
    "def f_pendule_index1(t, X):\n",
    "    x = X[0]\n",
    "    y = X[1]\n",
    "    vx = X[2]\n",
    "    vy = X[3]\n",
    "    lbda = X[4]\n",
    "    return np.array([vx, vy, -x*lbda/m, -g-(y*lbda)/m, lbda*(x**2+y**2)/m + g*y - (vx**2 + vy**2)])\n",
    "\n",
    "# mass matrix\n",
    "M = np.eye(5)\n",
    "M[-1, -1] = 0\n",
    "\n",
    "# functions of the rhs linked to the derivatives, it's the rhs of the ODE part of the DAE system\n",
    "def fun(t, y, x):\n",
    "    X = y[0]\n",
    "    Y = y[1]\n",
    "    vx = y[2]\n",
    "    vy = y[3]\n",
    "    lbda = x[0]\n",
    "    return np.array([vx, vy, -X*lbda/m, -g-(Y*lbda)/m])\n",
    "\n",
    "# algebraic constraints\n",
    "def gun(t, y, x):\n",
    "    X = y[0]\n",
    "    Y = y[1]\n",
    "    vx = y[2]\n",
    "    vy = y[3]\n",
    "    lbda = x[0]\n",
    "    return np.array([lbda*(X**2+Y**2)/m + g*Y - (vx**2 + vy**2)])"
   ]
  },
  {
   "cell_type": "markdown",
   "metadata": {},
   "source": [
    "Parameters of the DAEs solvers similar to those scipy solve_ivp:"
   ]
  },
  {
   "cell_type": "code",
   "execution_count": 6,
   "metadata": {},
   "outputs": [],
   "source": [
    "rtol = 1e-3 \n",
    "atol = 1e-3\n",
    "\n",
    "kwargsBDF = {\n",
    "    'fun': f_pendule_index1,\n",
    "    't_span': tspan,\n",
    "    'y0': y0,\n",
    "    'mass': M,\n",
    "    'method': BDFModified,\n",
    "    'rtol': rtol,\n",
    "    'atol': atol\n",
    "}\n",
    "\n",
    "kwargsRadau = {\n",
    "    'fun': f_pendule_index3,\n",
    "    't_span': tspan,\n",
    "    'y0': y0,\n",
    "    'mass': M,\n",
    "    'method': RadauModified,\n",
    "    'rtol': rtol,\n",
    "    'atol': atol,\n",
    "    'max_step': tspan[-1]/10,\n",
    "    'first_step': 1e-3,\n",
    "    'dense_output': False\n",
    "}\n",
    "\n",
    "kwargsRosenbrock = {\n",
    "    'fun': f_pendule_index1,\n",
    "    't_span': tspan,\n",
    "    'y0': y0,\n",
    "    'mass': M,\n",
    "    'method': Rosenbrock,\n",
    "    'rtol': rtol,\n",
    "    'atol': atol\n",
    "}\n",
    "\n",
    "kwargsSABM = {\n",
    "    'fun': fun,\n",
    "    't_span': tspan,\n",
    "    'y0': y0,\n",
    "    'method': SABM,\n",
    "    'gun': gun,\n",
    "    'num_diff': 4,\n",
    "    'order': 2,\n",
    "    'atol': rtol,\n",
    "    'rtol': atol,\n",
    "    'mode': 'Implicit'\n",
    "}"
   ]
  },
  {
   "cell_type": "markdown",
   "metadata": {},
   "source": [
    "Solve the DAEs:"
   ]
  },
  {
   "cell_type": "code",
   "execution_count": 7,
   "metadata": {},
   "outputs": [
    {
     "name": "stdout",
     "output_type": "stream",
     "text": [
      "Success: True\n",
      "Temps de calcul : 0.08822107315063477\n",
      "104\n",
      "  message: 'The solver successfully reached the end of the integration interval.'\n",
      "     nfev: 1473\n",
      "     njev: 75\n",
      "      nlu: 228\n",
      "      sol: None\n",
      "   status: 0\n",
      "  success: True\n",
      "        t: array([0.00000000e+00, 1.00000000e-03, 1.10000000e-02, 6.43253800e-02,\n",
      "       1.45171791e-01, 2.26018203e-01, 3.03405784e-01, 3.59261968e-01,\n",
      "       3.97992807e-01, 4.22033310e-01, 4.57706649e-01, 4.93379987e-01,\n",
      "       5.11868704e-01, 5.30357420e-01, 5.48846137e-01, 5.67334853e-01,\n",
      "       5.85823570e-01, 5.97629095e-01, 6.09434620e-01, 6.21240145e-01,\n",
      "       6.33045670e-01, 6.44851194e-01, 6.56656719e-01, 6.68462244e-01,\n",
      "       6.80267769e-01, 6.92073294e-01, 7.03878819e-01, 7.15684344e-01,\n",
      "       7.30231934e-01, 7.49643601e-01, 7.69055268e-01, 7.88466935e-01,\n",
      "       8.07878602e-01, 8.23536879e-01, 8.33014297e-01, 8.42491715e-01,\n",
      "       8.51969132e-01, 8.61446550e-01, 8.70923968e-01, 8.83316427e-01,\n",
      "       8.95708886e-01, 9.08101345e-01, 9.23044553e-01, 9.42230805e-01,\n",
      "       9.65527113e-01, 9.88823421e-01, 1.01211973e+00, 1.03541604e+00,\n",
      "       1.05871234e+00, 1.08200865e+00, 1.10530496e+00, 1.13451568e+00,\n",
      "       1.16372640e+00, 1.20075834e+00, 1.27767709e+00, 1.35459584e+00,\n",
      "       1.39305521e+00, 1.41487194e+00, 1.43668866e+00, 1.47768646e+00,\n",
      "       1.53678535e+00, 1.55938893e+00, 1.57538932e+00, 1.61390658e+00,\n",
      "       1.64812188e+00, 1.65721816e+00, 1.66631443e+00, 1.68326088e+00,\n",
      "       1.70020733e+00, 1.71715377e+00, 1.72742309e+00, 1.73769242e+00,\n",
      "       1.74503985e+00, 1.75238728e+00, 1.75973472e+00, 1.76368000e+00,\n",
      "       1.76762529e+00, 1.77157057e+00, 1.77397906e+00, 1.77638754e+00,\n",
      "       1.77879603e+00, 1.78120451e+00, 1.78361300e+00, 1.78602148e+00,\n",
      "       1.78842997e+00, 1.79083845e+00, 1.79428770e+00, 1.79959335e+00,\n",
      "       1.80489899e+00, 1.81020464e+00, 1.81785208e+00, 1.82716546e+00,\n",
      "       1.83888016e+00, 1.85059487e+00, 1.86230958e+00, 1.87402428e+00,\n",
      "       1.88573899e+00, 1.90032971e+00, 1.91989135e+00, 1.93945299e+00,\n",
      "       1.95901463e+00, 1.97857627e+00, 1.99416524e+00, 2.00606668e+00])\n",
      " t_events: None\n",
      "        y: array([[ 1.00000000e+00,  1.00000000e+00,  9.99999824e-01,\n",
      "         9.99793973e-01,  9.94652757e-01,  9.68899926e-01,\n",
      "         9.01103843e-01,  8.11079591e-01,  7.23611973e-01,\n",
      "         6.58302875e-01,  5.45998115e-01,  4.16697521e-01,\n",
      "         3.43901921e-01,  2.67866730e-01,  1.89240508e-01,\n",
      "         1.08750709e-01,  2.71757420e-02, -2.51068288e-02,\n",
      "        -7.72865191e-02, -1.29151290e-01, -1.80490340e-01,\n",
      "        -2.31103060e-01, -2.80793109e-01, -3.29380272e-01,\n",
      "        -3.76691541e-01, -4.22574451e-01, -4.66886353e-01,\n",
      "        -5.09507787e-01, -5.59545825e-01, -6.21806701e-01,\n",
      "        -6.78667028e-01, -7.30023274e-01, -7.75838442e-01,\n",
      "        -8.08852693e-01, -8.27155175e-01, -8.44231990e-01,\n",
      "        -8.60110199e-01, -8.74832810e-01, -8.88431958e-01,\n",
      "        -9.04599852e-01, -9.19021307e-01, -9.31807973e-01,\n",
      "        -9.45201551e-01, -9.59455193e-01, -9.72856817e-01,\n",
      "        -9.82664583e-01, -9.89553558e-01, -9.94161224e-01,\n",
      "        -9.97045378e-01, -9.98703849e-01, -9.99539985e-01,\n",
      "        -9.99928839e-01, -9.99997698e-01, -9.99999938e-01,\n",
      "        -9.99073073e-01, -9.89825957e-01, -9.77158778e-01,\n",
      "        -9.66140964e-01, -9.51629852e-01, -9.12788799e-01,\n",
      "        -8.23523467e-01, -7.77170365e-01, -7.39934611e-01,\n",
      "        -6.34906356e-01, -5.23744279e-01, -4.91527188e-01,\n",
      "        -4.58269322e-01, -3.93705467e-01, -3.26092645e-01,\n",
      "        -2.55874680e-01, -2.12275178e-01, -1.68030203e-01,\n",
      "        -1.36051484e-01, -1.03858241e-01, -7.15012574e-02,\n",
      "        -5.40768609e-02, -3.66278844e-02, -1.91620962e-02,\n",
      "        -8.49482711e-03,  2.17390933e-03,  1.28422776e-02,\n",
      "         2.35084333e-02,  3.41705872e-02,  4.48268728e-02,\n",
      "         5.54755918e-02,  6.61148429e-02,  8.13315353e-02,\n",
      "         1.04680509e-01,  1.27943464e-01,  1.51101223e-01,\n",
      "         1.84258102e-01,  2.24211518e-01,  2.73664932e-01,\n",
      "         3.22055031e-01,  3.69215939e-01,  4.14990880e-01,\n",
      "         4.59243321e-01,  5.12043171e-01,  5.78489412e-01,\n",
      "         6.39622067e-01,  6.95240992e-01,  7.45223818e-01,\n",
      "         7.81065671e-01,  8.06074739e-01],\n",
      "       [ 0.00000000e+00, -4.90500000e-06, -5.93504959e-04,\n",
      "        -2.02940413e-02, -1.03151663e-01, -2.47452629e-01,\n",
      "        -4.33617168e-01, -5.84935643e-01, -6.90206899e-01,\n",
      "        -7.52752117e-01, -8.37777375e-01, -9.09045892e-01,\n",
      "        -9.39004659e-01, -9.63457744e-01, -9.81929043e-01,\n",
      "        -9.94071747e-01, -9.99627024e-01, -9.99685142e-01,\n",
      "        -9.97006949e-01, -9.91626278e-01, -9.83575530e-01,\n",
      "        -9.72930619e-01, -9.59767191e-01, -9.44198444e-01,\n",
      "        -9.26337722e-01, -9.06329131e-01, -8.84316456e-01,\n",
      "        -8.60466810e-01, -8.28796982e-01, -7.83177473e-01,\n",
      "        -7.34441403e-01, -6.83431693e-01, -6.30921504e-01,\n",
      "        -5.88015017e-01, -5.61973120e-01, -5.35979147e-01,\n",
      "        -5.10104826e-01, -4.84425301e-01, -4.59004217e-01,\n",
      "        -4.26264089e-01, -3.94206453e-01, -3.62952968e-01,\n",
      "        -3.26485073e-01, -2.81865532e-01, -2.31401056e-01,\n",
      "        -1.85397212e-01, -1.44160221e-01, -1.07909682e-01,\n",
      "        -7.67922081e-02, -5.09011372e-02, -3.02903285e-02,\n",
      "        -1.19489169e-02, -1.97313896e-03, -1.35831509e-03,\n",
      "        -4.30579505e-02, -1.42248180e-01, -2.12510516e-01,\n",
      "        -2.58015047e-01, -3.07248802e-01, -4.08407565e-01,\n",
      "        -5.67282039e-01, -6.29290276e-01, -6.72679038e-01,\n",
      "        -7.72572712e-01, -8.51875933e-01, -8.70862184e-01,\n",
      "        -8.88815189e-01, -9.19231370e-01, -9.45340439e-01,\n",
      "        -9.66703661e-01, -9.77210266e-01, -9.85779696e-01,\n",
      "        -9.90701991e-01, -9.94591704e-01, -9.97442181e-01,\n",
      "        -9.98536772e-01, -9.99329402e-01, -9.99815605e-01,\n",
      "        -9.99963920e-01, -9.99997550e-01, -9.99917675e-01,\n",
      "        -9.99723567e-01, -9.99416181e-01, -9.98994561e-01,\n",
      "        -9.98460048e-01, -9.97811985e-01, -9.96687323e-01,\n",
      "        -9.94505487e-01, -9.91781498e-01, -9.88517978e-01,\n",
      "        -9.82878188e-01, -9.74539092e-01, -9.61825896e-01,\n",
      "        -9.46720026e-01, -9.29344485e-01, -9.09824832e-01,\n",
      "        -8.88311214e-01, -8.58957397e-01, -8.15696290e-01,\n",
      "        -7.68684887e-01, -7.18786130e-01, -6.66804000e-01,\n",
      "        -6.24452544e-01, -5.91816617e-01],\n",
      "       [ 0.00000000e+00, -4.45095760e-08, -6.04363297e-05,\n",
      "        -1.22668603e-02, -1.45600350e-01, -5.43277457e-01,\n",
      "        -1.26392317e+00, -1.98206143e+00, -2.54008105e+00,\n",
      "        -2.89298938e+00, -3.39732722e+00, -3.83894654e+00,\n",
      "        -4.03054304e+00, -4.18866394e+00, -4.31005395e+00,\n",
      "        -4.38988450e+00, -4.42702504e+00, -4.42734351e+00,\n",
      "        -4.40953997e+00, -4.37402216e+00, -4.32063614e+00,\n",
      "        -4.25096320e+00, -4.16463244e+00, -4.06409908e+00,\n",
      "        -3.94890903e+00, -3.82209956e+00, -3.68325985e+00,\n",
      "        -3.53570318e+00, -3.34170168e+00, -3.07086410e+00,\n",
      "        -2.78683056e+00, -2.50395971e+00, -2.21784580e+00,\n",
      "        -1.99871318e+00, -1.86535870e+00, -1.73840050e+00,\n",
      "        -1.61291434e+00, -1.49400921e+00, -1.37670916e+00,\n",
      "        -1.23351252e+00, -1.09593792e+00, -9.68878092e-01,\n",
      "        -8.26029568e-01, -6.63285248e-01, -4.92652166e-01,\n",
      "        -3.54028942e-01, -2.42237442e-01, -1.57279661e-01,\n",
      "        -9.39487954e-02, -5.11803651e-02, -2.31877457e-02,\n",
      "        -6.03844159e-03, -4.10379643e-04, -7.92961917e-05,\n",
      "         3.79268709e-02,  2.36370984e-01,  4.33404193e-01,\n",
      "         5.80502408e-01,  7.54254980e-01,  1.15717484e+00,\n",
      "         1.89236229e+00,  2.21124947e+00,  2.44379572e+00,\n",
      "         3.00934617e+00,  3.48238669e+00,  3.59997037e+00,\n",
      "         3.71136569e+00,  3.90471261e+00,  4.07090740e+00,\n",
      "         4.21095243e+00,  4.27873658e+00,  4.33580277e+00,\n",
      "         4.36796919e+00,  4.39390702e+00,  4.41258757e+00,\n",
      "         4.42002165e+00,  4.42517568e+00,  4.42851577e+00,\n",
      "         4.42946188e+00,  4.42969819e+00,  4.42915934e+00,\n",
      "         4.42786754e+00,  4.42582236e+00,  4.42302024e+00,\n",
      "         4.41950779e+00,  4.41518859e+00,  4.40773972e+00,\n",
      "         4.39323508e+00,  4.37527422e+00,  4.35364139e+00,\n",
      "         4.31651986e+00,  4.26156038e+00,  4.17874522e+00,\n",
      "         4.08037655e+00,  3.96890269e+00,  3.84416549e+00,\n",
      "         3.70899102e+00,  3.52616205e+00,  3.26427112e+00,\n",
      "         2.98444016e+00,  2.70091276e+00,  2.41013687e+00,\n",
      "         2.18755029e+00,  2.01666352e+00],\n",
      "       [ 0.00000000e+00, -9.81000000e-03, -1.07909979e-01,\n",
      "        -6.30887134e-01, -1.41520121e+00, -2.13539930e+00,\n",
      "        -2.62866440e+00, -2.74732529e+00, -2.66267383e+00,\n",
      "        -2.52969751e+00, -2.21252157e+00, -1.76002966e+00,\n",
      "        -1.47573931e+00, -1.16506765e+00, -8.29841387e-01,\n",
      "        -4.81112216e-01, -1.18904143e-01,  1.10145573e-01,\n",
      "         3.42714341e-01,  5.68648886e-01,  7.93714848e-01,\n",
      "         1.00891886e+00,  1.21923744e+00,  1.41704408e+00,\n",
      "         1.60652120e+00,  1.78143829e+00,  1.94522828e+00,\n",
      "         2.09308316e+00,  2.25707315e+00,  2.43615436e+00,\n",
      "         2.57749573e+00,  2.67169327e+00,  2.73132381e+00,\n",
      "         2.74621548e+00,  2.74702772e+00,  2.73744042e+00,\n",
      "         2.72157095e+00,  2.69675156e+00,  2.66662159e+00,\n",
      "         2.61574263e+00,  2.55611000e+00,  2.48652372e+00,\n",
      "         2.39244328e+00,  2.25624028e+00,  2.07313675e+00,\n",
      "         1.87419624e+00,  1.66440679e+00,  1.44669858e+00,\n",
      "         1.22409664e+00,  9.98312109e-01,  7.70940077e-01,\n",
      "         4.84756028e-01,  1.98244943e-01, -1.65042371e-01,\n",
      "        -9.18662485e-01, -1.65393338e+00, -1.99550286e+00,\n",
      "        -2.17386008e+00, -2.33659045e+00, -2.58354537e+00,\n",
      "        -2.74764789e+00, -2.73084965e+00, -2.68816932e+00,\n",
      "        -2.47050984e+00, -2.14198986e+00, -2.03171717e+00,\n",
      "        -1.91441290e+00, -1.67049652e+00, -1.40581418e+00,\n",
      "        -1.11233922e+00, -9.31408946e-01, -7.37974150e-01,\n",
      "        -6.00855995e-01, -4.58472156e-01, -3.17452584e-01,\n",
      "        -2.38095804e-01, -1.62638715e-01, -8.37179600e-02,\n",
      "        -3.86104112e-02,  9.78024931e-03,  5.65330053e-02,\n",
      "         1.04412794e-01,  1.50966521e-01,  1.99012837e-01,\n",
      "         2.45283423e-01,  2.92616814e-01,  3.59365757e-01,\n",
      "         4.62890677e-01,  5.64161776e-01,  6.65753909e-01,\n",
      "         8.08903690e-01,  9.81216922e-01,  1.18829339e+00,\n",
      "         1.38865985e+00,  1.57623071e+00,  1.75394558e+00,\n",
      "         1.91703885e+00,  2.10295959e+00,  2.31316427e+00,\n",
      "         2.48557466e+00,  2.60950987e+00,  2.69768222e+00,\n",
      "         2.73299631e+00,  2.74755892e+00],\n",
      "       [ 0.00000000e+00, -1.11878437e-04, -1.42199887e-02,\n",
      "        -5.05685335e-01, -2.87719789e+00, -7.06109606e+00,\n",
      "        -1.27818992e+01, -1.74183358e+01, -2.03235578e+01,\n",
      "        -2.21697424e+01, -2.47967868e+01, -2.64488057e+01,\n",
      "        -2.78436745e+01, -2.81287055e+01, -2.93480010e+01,\n",
      "        -2.88021562e+01, -3.01609349e+01, -2.76975159e+01,\n",
      "        -2.99663618e+01, -2.81059592e+01, -2.98511194e+01,\n",
      "        -2.78542917e+01, -2.90605639e+01, -2.70975711e+01,\n",
      "        -2.79254100e+01, -2.60821238e+01, -2.65649286e+01,\n",
      "        -2.48485876e+01, -2.48027332e+01, -2.24605390e+01,\n",
      "        -2.27237071e+01, -1.91525636e+01, -2.00175325e+01,\n",
      "        -1.53643613e+01, -1.83988349e+01, -1.52604453e+01,\n",
      "        -1.57803326e+01, -1.29163798e+01, -1.40714531e+01,\n",
      "        -1.16048631e+01, -1.21830704e+01, -1.03422388e+01,\n",
      "        -9.83036091e+00, -8.08046011e+00, -7.01312980e+00,\n",
      "        -5.21163880e+00, -4.38805861e+00, -3.04092792e+00,\n",
      "        -2.36545392e+00, -1.27148676e+00, -9.53575409e-01,\n",
      "        -2.33363011e-01, -7.47012190e-02,  2.32216578e-02,\n",
      "        -1.09118620e+00, -4.08439493e+00, -6.14456509e+00,\n",
      "        -7.65783566e+00, -9.02761277e+00, -1.21325520e+01,\n",
      "        -1.65397543e+01, -1.85639076e+01, -1.97973044e+01,\n",
      "        -2.29767641e+01, -2.44291620e+01, -2.61261917e+01,\n",
      "        -2.58350188e+01, -2.77739269e+01, -2.65579427e+01,\n",
      "        -2.95005503e+01, -2.51465745e+01, -3.00359685e+01,\n",
      "        -2.66663717e+01, -3.00065102e+01, -2.84109387e+01,\n",
      "        -3.57212138e+01, -2.80899580e+01, -3.18420604e+01,\n",
      "        -2.10809129e+01, -3.08603652e+01, -2.81571196e+01,\n",
      "        -3.12463477e+01, -2.80888443e+01, -3.17289663e+01,\n",
      "        -2.68596779e+01, -2.98222818e+01, -2.88515606e+01,\n",
      "        -3.00580072e+01, -2.81655908e+01, -2.94557481e+01,\n",
      "        -2.84786807e+01, -2.91831675e+01, -2.75377021e+01,\n",
      "        -2.84273350e+01, -2.68126566e+01, -2.72935390e+01,\n",
      "        -2.57169899e+01, -2.56750311e+01, -2.34402969e+01,\n",
      "        -2.37171626e+01, -2.01786647e+01, -2.11390723e+01,\n",
      "        -1.62691523e+01, -1.87482096e+01]])\n",
      " y_events: None\n"
     ]
    }
   ],
   "source": [
    "kwargs = kwargsRadau\n",
    "before = time()\n",
    "sol = solve_ivp(**kwargs)\n",
    "print(f'Success: {sol.success}')\n",
    "print(f'Temps de calcul : {time()-before}')\n",
    "t = sol.t\n",
    "print(len(t))\n",
    "print(sol)\n",
    "x = sol.y[0,:]\n",
    "y = sol.y[1,:]"
   ]
  },
  {
   "cell_type": "markdown",
   "metadata": {},
   "source": [
    "Solve the ODEs for the reference solution:"
   ]
  },
  {
   "cell_type": "code",
   "execution_count": 8,
   "metadata": {},
   "outputs": [],
   "source": [
    "def solve_ODE():\n",
    "    def ode(t, y):\n",
    "        theta = y[0]\n",
    "        dtheta = y[1]\n",
    "        return np.array([dtheta,\n",
    "                        -g/L*np.sin(theta)])\n",
    "\n",
    "    y0 = np.array([np.pi/2, 0])\n",
    "    sol_ODE = solve_ivp(fun=ode, t_span=[tspan[0], sol.t[-1]], y0=y0, rtol=1e-12,\n",
    "                        atol=1e-12, max_step=tspan[-1]/10, method='DOP853', t_eval=sol.t)\n",
    "    theta = sol_ODE.y[0, :]\n",
    "    x_ODE = L*np.sin(theta)\n",
    "    y_ODE = -L*np.cos(theta)\n",
    "    return sol_ODE.t, x_ODE, y_ODE\n",
    "\n",
    "\n",
    "t_ODE, x_ODE, y_ODE = solve_ODE()"
   ]
  },
  {
   "cell_type": "markdown",
   "metadata": {},
   "source": [
    "Plot the $x$ and $y$ coordinates"
   ]
  },
  {
   "cell_type": "code",
   "execution_count": 9,
   "metadata": {},
   "outputs": [
    {
     "data": {
      "image/png": "[encoded data removed]",
      "text/plain": [
       "<Figure size 432x288 with 1 Axes>"
      ]
     },
     "metadata": {
      "needs_background": "light"
     },
     "output_type": "display_data"
    }
   ],
   "source": [
    "plt.figure()\n",
    "plt.plot(t, x, label=\"Value of x\")\n",
    "plt.plot(t, y, label=\"Value of y\")\n",
    "plt.title(\"Pendulum problem\")\n",
    "plt.xlabel(\"Time [s]\")\n",
    "plt.ylabel(\"Position [m]\")\n",
    "plt.grid()\n",
    "plt.legend()\n",
    "plt.show()"
   ]
  },
  {
   "cell_type": "markdown",
   "metadata": {},
   "source": [
    "Plot of the error in comparaison with the ODE solution:"
   ]
  },
  {
   "cell_type": "code",
   "execution_count": 10,
   "metadata": {},
   "outputs": [
    {
     "data": {
      "image/png": "[encoded data removed]",
      "text/plain": [
       "<Figure size 432x288 with 1 Axes>"
      ]
     },
     "metadata": {
      "needs_background": "light"
     },
     "output_type": "display_data"
    }
   ],
   "source": [
    "plt.figure()\n",
    "plt.plot(sol.t, abs(x - x_ODE),\".-\", label='Error in X')\n",
    "plt.plot(sol.t, abs(y - y_ODE),\".-\", label='Error in Y')\n",
    "plt.title(\n",
    "    f'Error plot of {kwargs[\"method\"].__name__} method for the pendulum example', pad=20)\n",
    "plt.xlabel('Time [s]')\n",
    "plt.ylabel('Error [m]')\n",
    "plt.grid()\n",
    "plt.legend()\n",
    "plt.ticklabel_format(axis='y',style='sci',scilimits=(0,0))\n",
    "#plt.savefig(\"pendulum_\"+kwargs[\"method\"].__name__+\".png\", dpi=250, bbox_inches=\"tight\")\n",
    "plt.show()"
   ]
  },
  {
   "cell_type": "markdown",
   "metadata": {},
   "source": [
    "## Remarks\n",
    "\n",
    "One can observe that the RadauIIa method is able to solve the index 3 DAEs system whereas the BDF and SEABM are restricted to index 1 DAEs system. Note that RadauIIa achieves a high degree of accuracy since the error is of order $10^{-5}$ for a tolerance of $10^{-3}$."
   ]
  }
 ],
 "metadata": {
  "interpreter": {
   "hash": "bf512566ae9d065e75d76884dd4d3df545333ba35243aa7a394deb5ff4e39579"
  },
  "kernelspec": {
   "display_name": "Python 3",
   "language": "python",
   "name": "python3"
  },
  "language_info": {
   "codemirror_mode": {
    "name": "ipython",
    "version": 3
   },
   "file_extension": ".py",
   "mimetype": "text/x-python",
   "name": "python",
   "nbconvert_exporter": "python",
   "pygments_lexer": "ipython3",
   "version": "3.7.4"
  }
 },
 "nbformat": 4,
 "nbformat_minor": 2
}
