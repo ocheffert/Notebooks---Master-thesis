{
 "cells": [
  {
   "cell_type": "markdown",
   "metadata": {},
   "source": [
    "# Solve the simple pendulum problem with DAEs solvers"
   ]
  },
  {
   "cell_type": "markdown",
   "metadata": {},
   "source": [
    "## Mathematical modelling"
   ]
  },
  {
   "cell_type": "markdown",
   "metadata": {},
   "source": [
    "\n",
    "\n",
    "One can use the Euler-Lagrange equation:\n",
    "$$\\frac{d}{dt}\\left( \\frac{\\partial}{\\partial \\dot{\\mathbf{q}}} \\mathcal{L}(\\mathbf{q}, \\dot{\\mathbf{q}}) \\right) = \\frac{\\partial}{\\partial \\mathbf{q}} \\mathcal{L}(\\mathbf{q}, \\dot{\\mathbf{q}})$$\n",
    "\n",
    "with:\n",
    "    $$\\mathcal{L}(\\mathbf{q}, \\dot{\\mathbf{q}}) = T - U - \\lambda C$$\n",
    "    such that:\n",
    "- $T = \\frac{m}{2} (\\dot{x}^2 + \\dot{y}^2)$ (kinetic energy) \n",
    "- $U = mgy$ (potential energy)\n",
    "- $C = 0.5 (x^2 + y^2 - L^2)$ (constraint)\n",
    "- $(x,y)$ are the coordinates of the mass at the end of the pendulum\n",
    "- $L$ is the length of the pendulum and $m$ the mass of the pendulum"
   ]
  },
  {
   "cell_type": "markdown",
   "metadata": {},
   "source": [
    "Then apply the Euler-Lagrange equation to mecanical constrained systems:\n",
    "\n",
    "$$\\frac{d}{dt}\\left( \\frac{\\partial}{\\partial \\dot{\\mathbf{q}}} T(\\mathbf{q}, \\dot{\\mathbf{q}}) \\right) = \\frac{\\partial}{\\partial \\mathbf{q}} T(\\mathbf{q}, \\dot{\\mathbf{q}}) + f(t, \\mathbf{q},\\dot{\\mathbf{q}}) + \\mathbf{G}^T \\lambda$$\n",
    "$$0 = \\phi(\\mathbf{q})$$\n",
    "\n",
    "such that\n",
    "\n",
    "- $\\mathbf{q}$ is the vector of state variables\n",
    "- $f$ are the external forces (here: the weight)\n",
    "- $\\phi(\\mathbf{q})$ is the contraint such that $\\mathbf{G} = d\\phi(\\mathbf{q})/dq$\n",
    "\n",
    "Applying this Euler-Equation to our pendulum gives us:"
   ]
  },
  {
   "cell_type": "markdown",
   "metadata": {},
   "source": [
    "\\begin{align*}\n",
    "\\left\\{\n",
    "\\begin{aligned}\n",
    "\\dot{x} &= u \\\\\n",
    "\\dot{y} &= v \\\\\n",
    "\\dot{u} &= \\lambda x \\\\\n",
    "\\dot{v} &= \\lambda y - g \\\\\n",
    "0 &= x^2 + y^2 - L^2\n",
    "\\end{aligned}\\right.\n",
    "\\end{align*}\n",
    "\n",
    "This is an index 3 DAE system since 3 successive derivations of the constraint(s) must be applied to obtain an ODE. Thus, deriving twice the constraint gives us the following index 1 DAE system:\n",
    "\n",
    "\\begin{align*}\n",
    "\\left\\{\n",
    "\\begin{aligned}\n",
    "\\dot{x} &= u \\\\\n",
    "\\dot{y} &= v \\\\\n",
    "\\dot{u} &= \\lambda x \\\\\n",
    "\\dot{v} &= \\lambda y - g \\\\\n",
    "L^2 \\lambda &= gy - u^2 - v^2\n",
    "\\end{aligned}\\right.\n",
    "\\end{align*}\n",
    "\n",
    "The ODE system can be simplified using angular coordinates such that $x = L \\, sin(\\theta)$ and $y= -L \\, cos(\\theta)$:\n",
    "\\begin{align*}\n",
    "\\left\\{\n",
    "\\begin{aligned}\n",
    "\\dot{\\theta} &= \\omega\\\\\n",
    "\\dot{\\omega} &= - \\frac{g}{L} sin(\\theta)\n",
    "\\end{aligned}\\right.\n",
    "\\end{align*}"
   ]
  },
  {
   "cell_type": "markdown",
   "metadata": {},
   "source": [
    "## Solving those systems with DAEs solvers"
   ]
  },
  {
   "cell_type": "code",
   "execution_count": 1,
   "metadata": {},
   "outputs": [],
   "source": [
    "# import solvers\n",
    "from solvers.bdfSolver import BDFModified\n",
    "from solvers.sabm import SABM\n",
    "from solvers.radau import RadauModified\n",
    "from solvers.rosScipyFinal import Rosenbrock"
   ]
  },
  {
   "cell_type": "code",
   "execution_count": 2,
   "metadata": {},
   "outputs": [],
   "source": [
    "# import other useful modules\n",
    "from time import time\n",
    "from matplotlib import pyplot as plt\n",
    "from scipy.integrate import solve_ivp\n",
    "import numpy as np"
   ]
  },
  {
   "cell_type": "markdown",
   "metadata": {},
   "source": [
    "Declare the constants of the pendulum problem:"
   ]
  },
  {
   "cell_type": "code",
   "execution_count": 3,
   "metadata": {},
   "outputs": [],
   "source": [
    "L = 1\n",
    "g = 9.81\n",
    "m = 1\n",
    "Tend = 2*np.pi*np.sqrt(L/g)\n",
    "tspan = [0, Tend]\n",
    "y0 = [1, 0, 0, 0, 0]"
   ]
  },
  {
   "cell_type": "markdown",
   "metadata": {},
   "source": [
    "Create the function describing the DAEs systems such that $M \\dot{y} = f(t,y)$:"
   ]
  },
  {
   "cell_type": "code",
   "execution_count": 4,
   "metadata": {},
   "outputs": [],
   "source": [
    "# index 3 DAE system, right hand side (rhs) function\n",
    "def f_pendule_index3(t, y):\n",
    "    # y = x, y, u, v, l\n",
    "    res = np.zeros(5)\n",
    "    res[0] = y[2]\n",
    "    res[1] = y[3]\n",
    "    res[2] = y[4]*y[0]\n",
    "    res[3] = y[4]*y[1] - g\n",
    "    res[4] = y[0]**2 + y[1]**2 - L**2\n",
    "    return res\n",
    "\n",
    "\n",
    "# index 1 DAE system, rhs function\n",
    "def f_pendule_index1(t, X):\n",
    "    x = X[0]\n",
    "    y = X[1]\n",
    "    vx = X[2]\n",
    "    vy = X[3]\n",
    "    lbda = X[4]\n",
    "    return np.array([vx, vy, -x*lbda/m, -g-(y*lbda)/m, lbda*(x**2+y**2)/m + g*y - (vx**2 + vy**2)])\n",
    "\n",
    "# mass matrix\n",
    "M = np.eye(5)\n",
    "M[-1, -1] = 0\n",
    "\n",
    "# functions of the rhs linked to the derivatives, it's the rhs of the ODE part of the DAE system\n",
    "def fun(t, y, x):\n",
    "    X = y[0]\n",
    "    Y = y[1]\n",
    "    vx = y[2]\n",
    "    vy = y[3]\n",
    "    lbda = x[0]\n",
    "    return np.array([vx, vy, -X*lbda/m, -g-(Y*lbda)/m])\n",
    "\n",
    "# algebraic constraints\n",
    "def gun(t, y, x):\n",
    "    X = y[0]\n",
    "    Y = y[1]\n",
    "    vx = y[2]\n",
    "    vy = y[3]\n",
    "    lbda = x[0]\n",
    "    return np.array([lbda*(X**2+Y**2)/m + g*Y - (vx**2 + vy**2)])"
   ]
  },
  {
   "cell_type": "markdown",
   "metadata": {},
   "source": [
    "Parameters of the DAEs solvers similar to those scipy solve_ivp:"
   ]
  },
  {
   "cell_type": "code",
   "execution_count": 5,
   "metadata": {},
   "outputs": [],
   "source": [
    "kwargsBDF = {\n",
    "    'fun': f_pendule_index1,\n",
    "    't_span': tspan,\n",
    "    'y0': y0,\n",
    "    'mass': M,\n",
    "    'method': BDFModified,\n",
    "    'rtol': 1e-3,\n",
    "    'atol': 1e-3\n",
    "}\n",
    "\n",
    "\n",
    "kwargsRadau = {\n",
    "    'fun': f_pendule_index3,\n",
    "    't_span': tspan,\n",
    "    'y0': y0,\n",
    "    'mass': M,\n",
    "    'method': RadauModified,\n",
    "    'rtol': 1e-3,\n",
    "    'atol': 1e-3,\n",
    "    'max_step': tspan[-1]/10,\n",
    "    'first_step': 1e-3,\n",
    "    'dense_output': False\n",
    "}\n",
    "\n",
    "kwargsSABM = {\n",
    "    'fun': fun,\n",
    "    't_span': tspan,\n",
    "    'y0': y0,\n",
    "    'method': SABM,\n",
    "    'gun': gun,\n",
    "    'num_diff': 4,\n",
    "    'order': 2,\n",
    "    'atol': 1e-3,\n",
    "    'rtol': 1e-3,\n",
    "    'mode': 'Explicit'\n",
    "}"
   ]
  },
  {
   "cell_type": "markdown",
   "metadata": {},
   "source": [
    "Solve the DAEs:"
   ]
  },
  {
   "cell_type": "code",
   "execution_count": 6,
   "metadata": {},
   "outputs": [
    {
     "name": "stdout",
     "output_type": "stream",
     "text": [
      "Success: True\n",
      "Temps de calcul : 0.05983853340148926\n"
     ]
    }
   ],
   "source": [
    "kwargs = kwargsSABM\n",
    "before = time()\n",
    "sol = solve_ivp(**kwargs)\n",
    "print(f'Success: {sol.success}')\n",
    "print(f'Temps de calcul : {time()-before}')\n",
    "t = sol.t\n",
    "\n",
    "x = sol.y[0,:]\n",
    "y = sol.y[1,:]"
   ]
  },
  {
   "cell_type": "markdown",
   "metadata": {},
   "source": [
    "Solve the ODEs for the reference solution:"
   ]
  },
  {
   "cell_type": "code",
   "execution_count": 7,
   "metadata": {},
   "outputs": [],
   "source": [
    "def solve_ODE():\n",
    "    def ode(t, y):\n",
    "        theta = y[0]\n",
    "        dtheta = y[1]\n",
    "        return np.array([dtheta,\n",
    "                        -g/L*np.sin(theta)])\n",
    "\n",
    "    y0 = np.array([np.pi/2, 0])\n",
    "    sol_ODE = solve_ivp(fun=ode, t_span=[tspan[0], sol.t[-1]], y0=y0, rtol=1e-12,\n",
    "                        atol=1e-12, max_step=tspan[-1]/10, method='DOP853', t_eval=sol.t)\n",
    "    theta = sol_ODE.y[0, :]\n",
    "    x_ODE = L*np.sin(theta)\n",
    "    y_ODE = -L*np.cos(theta)\n",
    "    return sol_ODE.t, x_ODE, y_ODE\n",
    "\n",
    "\n",
    "t_ODE, x_ODE, y_ODE = solve_ODE()"
   ]
  },
  {
   "cell_type": "markdown",
   "metadata": {},
   "source": [
    "Plot the $x$ and $y$ coordinates"
   ]
  },
  {
   "cell_type": "code",
   "execution_count": 8,
   "metadata": {},
   "outputs": [
    {
     "data": {
      "image/png": "[encoded data removed]",
      "text/plain": [
       "<Figure size 432x288 with 1 Axes>"
      ]
     },
     "metadata": {
      "needs_background": "light"
     },
     "output_type": "display_data"
    }
   ],
   "source": [
    "plt.figure()\n",
    "plt.plot(t, x, label=\"Value of x\")\n",
    "plt.plot(t, y, label=\"Value of y\")\n",
    "plt.title(\"Pendulum problem\")\n",
    "plt.xlabel(\"Time [s]\")\n",
    "plt.ylabel(\"Position [m]\")\n",
    "plt.grid()\n",
    "plt.legend()\n",
    "plt.show()"
   ]
  },
  {
   "cell_type": "markdown",
   "metadata": {},
   "source": [
    "Plot of the error in comparaison with the ODE solution:"
   ]
  },
  {
   "cell_type": "code",
   "execution_count": 9,
   "metadata": {},
   "outputs": [
    {
     "data": {
      "image/png": "[encoded data removed]",
      "text/plain": [
       "<Figure size 432x288 with 1 Axes>"
      ]
     },
     "metadata": {
      "needs_background": "light"
     },
     "output_type": "display_data"
    }
   ],
   "source": [
    "plt.figure()\n",
    "plt.plot(sol.t, abs(x - x_ODE),\".-\", label='Error in X')\n",
    "plt.plot(sol.t, abs(y - y_ODE),\".-\", label='Error in Y')\n",
    "plt.title(\n",
    "    f'Error plot of {kwargs[\"method\"].__name__} method for the pendulum example')\n",
    "plt.xlabel('Time [s]')\n",
    "plt.ylabel('Error [m]')\n",
    "plt.grid()\n",
    "plt.legend()\n",
    "plt.show()"
   ]
  },
  {
   "cell_type": "markdown",
   "metadata": {},
   "source": [
    "## Remarks\n",
    "\n",
    "One can observe that the RadauIIa method is able to solve the index 3 DAEs system whereas the BDF and SEABM are restricted to index 1 DAEs system. Note that RadauIIa achieves a high degree of accuracy since the error is of order $10^{-5}$ for a tolerance of $10^{-3}$."
   ]
  }
 ],
 "metadata": {
  "interpreter": {
   "hash": "bf512566ae9d065e75d76884dd4d3df545333ba35243aa7a394deb5ff4e39579"
  },
  "kernelspec": {
   "display_name": "Python 3",
   "language": "python",
   "name": "python3"
  },
  "language_info": {
   "codemirror_mode": {
    "name": "ipython",
    "version": 3
   },
   "file_extension": ".py",
   "mimetype": "text/x-python",
   "name": "python",
   "nbconvert_exporter": "python",
   "pygments_lexer": "ipython3",
   "version": "3.7.4"
  }
 },
 "nbformat": 4,
 "nbformat_minor": 2
}
