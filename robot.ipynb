{
 "cells": [
  {
   "cell_type": "markdown",
   "metadata": {},
   "source": [
    "# Solve the robotic manipulator problem with DAEs solvers "
   ]
  },
  {
   "cell_type": "markdown",
   "metadata": {},
   "source": [
    "## Mathematical modelling"
   ]
  },
  {
   "attachments": {},
   "cell_type": "markdown",
   "metadata": {},
   "source": [
    "![robot](img/robot.png)"
   ]
  },
  {
   "cell_type": "markdown",
   "metadata": {},
   "source": [
    "Let us consider the robotic manipulator represented in figure above and constituted by a rigid segment moving horizontally (body 1) to which a second rigid segment is articulated. The second segment could perform a rotation motion (body 2). The motion of the system is due to the application of the force $F$ applied horizontally on the first segment and the torque of rotation $T$ applied on the second segment. The inertial basis and the different coordinates are indicated in the figure. "
   ]
  },
  {
   "cell_type": "markdown",
   "metadata": {},
   "source": [
    "This system is subjected to two type of constraints \n",
    "\n",
    "- Path constraints :\n",
    " $$y_1 = 0$$ \n",
    " $$\\theta_1 = 0$$\n",
    "- Link constraints :\n",
    " $$x_2 - b \\sin \\theta_2 - x_1 - a = 0$$\n",
    " $$y_2 + b \\cos \\theta_2 = 0$$"
   ]
  },
  {
   "cell_type": "markdown",
   "metadata": {},
   "source": [
    "Using the Lagrange multiplier method, the following equations are obtained : \n",
    "\n",
    "\\begin{align}\n",
    "        m_1 \\ddot{x}_1 &= F - \\lambda_3 \\\\\n",
    "        I_2 \\ddot{\\theta}_2 &= -\\lambda_3 b \\cos \\theta_2 - \\lambda_4 b \\sin \\theta_2 + T \\\\ \n",
    "        m_1\\ddot{y}_1 &= -m_1 g + \\lambda_1 \\\\\n",
    "        I_1 \\ddot{\\theta}_1 &= \\lambda_2 \\\\\n",
    "        m_2 \\ddot{x}_2 &= \\lambda_3 \\\\\n",
    "        m_2 \\ddot{y}_2 &= -m_2 g + \\lambda_4\n",
    "    \\end{align}\n",
    "\n",
    "Using the motion constraints, we can determine $\\lambda_1 = m_1 \\; g$ and $\\lambda_2 = 0$ from equations 3 and 4.\n",
    "\n",
    "\\begin{align}\n",
    "\\left\\{\\begin{aligned}\n",
    "        m_1 \\ddot{x}_1 &= F - \\lambda_3 \\\\\n",
    "        I_2 \\ddot{\\theta}_2 &= -\\lambda_3 b \\cos \\theta_2 - \\lambda_4 b \\sin \\theta_2 + T \\\\ \n",
    "        m_2 \\ddot{x}_2 &= \\lambda_3 \\\\\n",
    "        m_2 \\ddot{y}_2 &= -m_2 g + \\lambda_4\\\\\n",
    "        0 &= x_2 - b \\sin \\theta_2 - x_1 - a \\\\\n",
    "        0 &= y_2 + b \\cos \\theta_2\n",
    "    \\end{aligned}\\right.\n",
    "    \\end{align}\n",
    "    \n",
    "This is an index 3 DAE system since 3 successive derivations of the constraint(s) must be applied to obtain an ODE. Thus, deriving twice the constraint and reduce the order of the derivative gives us the following index 1 DAE system:\n",
    "\n",
    "\\begin{align}\n",
    "\\left\\{\\begin{aligned}\n",
    "        \\dot{x}_1 &= u \\\\\n",
    "        m_1 \\dot{u} &= F - \\lambda_3 \\\\\n",
    "        \\dot{x}_2 &= v \\\\\n",
    "        m_2 \\dot{v} &= \\lambda_3 \\\\\n",
    "        \\dot{y}_2 &= w \\\\\n",
    "        m_2 \\dot{w} &= -m_2 g + \\lambda_4\\\\\n",
    "        \\dot{\\theta}_2 &= \\alpha \\\\\n",
    "        I_2 \\dot{\\alpha} &= -\\lambda_3 b \\cos \\theta_2 - \\lambda_4 b \\sin \\theta_2 + T \\\\ \n",
    "        0 &= \\dot{v} - b \\dot{\\alpha} \\cos \\theta_2 + b \\alpha^2 \\sin \\theta_2 - \\dot{u} \\\\\n",
    "        0 &= \\dot{w} - b \\dot{\\alpha} \\sin \\theta_2 - b \\alpha^2 \\cos \\theta_2\n",
    "    \\end{aligned}\\right.\n",
    "    \\end{align}\n",
    "\n",
    "We replace the values of $\\dot{u}, \\dot{v}, \\dot{w}$ and $\\dot{\\alpha}$ in the last two equations to obtain constraints that depend on the variables $\\lambda_3$ and $\\lambda_4$. "
   ]
  },
  {
   "cell_type": "markdown",
   "metadata": {},
   "source": [
    "### ODE system"
   ]
  },
  {
   "cell_type": "markdown",
   "metadata": {},
   "source": [
    "To obtain an ODE system, one normally has to derive the constraints of the index 1 DAE system. By deriving the last two equations, one obtains very complex expressions. The general dynamic of an articulated mechanical system is therefore used:\n",
    "\n",
    "$$ M(q)\\ddot{q} + f(q, \\dot{q}) + g(q) = G(q)u$$\n",
    "\n",
    "where $q = \\begin{bmatrix}\n",
    "    x_1 \\\\ \\theta_2\n",
    "    \\end{bmatrix}$ Once the general dynamic model has been derived, the last remaining step is to write the system state model :\n",
    "\n",
    "\\begin{align*}\n",
    "        \\dot{q} &= v \\\\\n",
    "        \\dot{v} &= M^{-1}(q)[-f(q, v) - g(q) + G(q)u]\n",
    "    \\end{align*}\n",
    "\n",
    "With our problem, we have : \n",
    "\n",
    "- $q = \\begin{bmatrix}\n",
    "    x_1 \\\\ \\theta_2\n",
    "    \\end{bmatrix}$\n",
    "\n",
    "- $M(q) = \\begin{bmatrix} m_1 + m_2 & m_2 b \\cos \\theta_2 \\\\\n",
    "        m_2 b \\cos \\theta_2 & I_2 + m_2 b^2\n",
    "        \\end{bmatrix}$\n",
    " \n",
    "- $C(q,\\dot{q}) = \\begin{bmatrix} \n",
    "        0 & -m_2 b \\dot{\\theta}_2 \\sin \\theta_2 \\\\\n",
    "        0 & 0\n",
    "        \\end{bmatrix}$ => $f(q,\\dot{q}) = C(q,\\dot{q})\\dot{q}$\n",
    "        \n",
    "- $g(q) = \\begin{bmatrix} 0 \\\\ b m_2 g \\sin \\theta_2 \\end{bmatrix}$\n",
    "\n",
    "- $G(q)u = \\begin{bmatrix} F \\\\ T \\end{bmatrix}$"
   ]
  },
  {
   "cell_type": "markdown",
   "metadata": {},
   "source": [
    "## Solving those systems with DAEs solvers"
   ]
  },
  {
   "cell_type": "code",
   "execution_count": 1,
   "metadata": {},
   "outputs": [],
   "source": [
    "# import solvers\n",
    "from solvers.bdfSolver import BDFModified\n",
    "from solvers.Final import SABMScipy\n",
    "from solvers.radau import RadauModified\n",
    "from solvers.rosScipyFinal import Rosenbrock"
   ]
  },
  {
   "cell_type": "code",
   "execution_count": 2,
   "metadata": {},
   "outputs": [],
   "source": [
    "# import other useful modules\n",
    "from time import time\n",
    "from matplotlib import pyplot as plt\n",
    "from scipy.integrate import solve_ivp\n",
    "import numpy as np"
   ]
  },
  {
   "cell_type": "markdown",
   "metadata": {},
   "source": [
    "Declare the constants of the robot manipulator problem:"
   ]
  },
  {
   "cell_type": "code",
   "execution_count": null,
   "metadata": {},
   "outputs": [],
   "source": []
  }
 ],
 "metadata": {
  "kernelspec": {
   "display_name": "Python 3",
   "language": "python",
   "name": "python3"
  },
  "language_info": {
   "codemirror_mode": {
    "name": "ipython",
    "version": 3
   },
   "file_extension": ".py",
   "mimetype": "text/x-python",
   "name": "python",
   "nbconvert_exporter": "python",
   "pygments_lexer": "ipython3",
   "version": "3.7.4"
  }
 },
 "nbformat": 4,
 "nbformat_minor": 2
}
