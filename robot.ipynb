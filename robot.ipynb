{
 "cells": [
  {
   "cell_type": "markdown",
   "metadata": {},
   "source": [
    "# Solve the robotic manipulator problem with DAEs solvers "
   ]
  },
  {
   "cell_type": "markdown",
   "metadata": {},
   "source": [
    "## Mathematical modelling"
   ]
  },
  {
   "attachments": {},
   "cell_type": "markdown",
   "metadata": {},
   "source": [
    "![robot](img/robot.png)"
   ]
  },
  {
   "cell_type": "markdown",
   "metadata": {},
   "source": [
    "Let us consider the robotic manipulator represented in figure above and constituted by a rigid segment moving horizontally (body 1) to which a second rigid segment is articulated. The second segment could perform a rotation motion (body 2). The motion of the system is due to the application of the force $F$ applied horizontally on the first segment and the torque of rotation $T$ applied on the second segment. The inertial basis and the different coordinates are indicated in the figure. "
   ]
  },
  {
   "cell_type": "markdown",
   "metadata": {},
   "source": [
    "This system is subjected to two type of constraints \n",
    "\n",
    "- Path constraints :\n",
    " $$y_1 = 0$$ \n",
    " $$\\theta_1 = 0$$\n",
    "- Link constraints :\n",
    " $$x_2 - b \\sin \\theta_2 - x_1 - a = 0$$\n",
    " $$y_2 + b \\cos \\theta_2 = 0$$"
   ]
  },
  {
   "cell_type": "markdown",
   "metadata": {},
   "source": [
    "Using the Lagrange multiplier method, the following equations are obtained : \n",
    "\n",
    "\\begin{align}\n",
    "        m_1 \\ddot{x}_1 &= F - \\lambda_3 \\\\\n",
    "        I_2 \\ddot{\\theta}_2 &= -\\lambda_3 b \\cos \\theta_2 - \\lambda_4 b \\sin \\theta_2 + T \\\\ \n",
    "        m_1\\ddot{y}_1 &= -m_1 g + \\lambda_1 \\\\\n",
    "        I_1 \\ddot{\\theta}_1 &= \\lambda_2 \\\\\n",
    "        m_2 \\ddot{x}_2 &= \\lambda_3 \\\\\n",
    "        m_2 \\ddot{y}_2 &= -m_2 g + \\lambda_4\n",
    "    \\end{align}\n",
    "\n",
    "Using the motion constraints, we can determine $\\lambda_1 = m_1 \\; g$ and $\\lambda_2 = 0$ from equations 3 and 4.\n",
    "\n",
    "\\begin{align}\n",
    "\\left\\{\\begin{aligned}\n",
    "        m_1 \\ddot{x}_1 &= F - \\lambda_3 \\\\\n",
    "        I_2 \\ddot{\\theta}_2 &= -\\lambda_3 b \\cos \\theta_2 - \\lambda_4 b \\sin \\theta_2 + T \\\\ \n",
    "        m_2 \\ddot{x}_2 &= \\lambda_3 \\\\\n",
    "        m_2 \\ddot{y}_2 &= -m_2 g + \\lambda_4\\\\\n",
    "        0 &= x_2 - b \\sin \\theta_2 - x_1 - a \\\\\n",
    "        0 &= y_2 + b \\cos \\theta_2\n",
    "    \\end{aligned}\\right.\n",
    "    \\end{align}\n",
    "    \n",
    "This is an index 3 DAE system since 3 successive derivations of the constraint(s) must be applied to obtain an ODE. Thus, deriving twice the constraint and reduce the order of the derivative gives us the following index 1 DAE system:\n",
    "\n",
    "\\begin{align}\n",
    "\\left\\{\\begin{aligned}\n",
    "        \\dot{x}_1 &= u \\\\\n",
    "        m_1 \\dot{u} &= F - \\lambda_3 \\\\\n",
    "        \\dot{x}_2 &= v \\\\\n",
    "        m_2 \\dot{v} &= \\lambda_3 \\\\\n",
    "        \\dot{y}_2 &= w \\\\\n",
    "        m_2 \\dot{w} &= -m_2 g + \\lambda_4\\\\\n",
    "        \\dot{\\theta}_2 &= \\alpha \\\\\n",
    "        I_2 \\dot{\\alpha} &= -\\lambda_3 b \\cos \\theta_2 - \\lambda_4 b \\sin \\theta_2 + T \\\\ \n",
    "        0 &= \\dot{v} - b \\dot{\\alpha} \\cos \\theta_2 + b \\alpha^2 \\sin \\theta_2 - \\dot{u} \\\\\n",
    "        0 &= \\dot{w} - b \\dot{\\alpha} \\sin \\theta_2 - b \\alpha^2 \\cos \\theta_2\n",
    "    \\end{aligned}\\right.\n",
    "    \\end{align}\n",
    "\n",
    "We replace the values of $\\dot{u}, \\dot{v}, \\dot{w}$ and $\\dot{\\alpha}$ in the last two equations to obtain constraints that depend on the variables $\\lambda_3$ and $\\lambda_4$. "
   ]
  },
  {
   "cell_type": "markdown",
   "metadata": {},
   "source": [
    "### ODE system"
   ]
  },
  {
   "cell_type": "markdown",
   "metadata": {},
   "source": [
    "To obtain an ODE system, one normally has to derive the constraints of the index 1 DAE system. By deriving the last two equations, one obtains very complex expressions. The general dynamic of an articulated mechanical system is therefore used:\n",
    "\n",
    "$$ M(q)\\ddot{q} + f(q, \\dot{q}) + g(q) = G(q)u$$\n",
    "\n",
    "where $q = \\begin{bmatrix}\n",
    "    x_1 \\\\ \\theta_2\n",
    "    \\end{bmatrix}$ Once the general dynamic model has been derived, the last remaining step is to write the system state model :\n",
    "\n",
    "\\begin{align*}\n",
    "        \\dot{q} &= v \\\\\n",
    "        \\dot{v} &= M^{-1}(q)[-f(q, v) - g(q) + G(q)u]\n",
    "    \\end{align*}\n",
    "\n",
    "With our problem, we have : \n",
    "\n",
    "- $q = \\begin{bmatrix}\n",
    "    x_1 \\\\ \\theta_2\n",
    "    \\end{bmatrix}$\n",
    "\n",
    "- $M(q) = \\begin{bmatrix} m_1 + m_2 & m_2 b \\cos \\theta_2 \\\\\n",
    "        m_2 b \\cos \\theta_2 & I_2 + m_2 b^2\n",
    "        \\end{bmatrix}$\n",
    " \n",
    "- $C(q,\\dot{q}) = \\begin{bmatrix} \n",
    "        0 & -m_2 b \\dot{\\theta}_2 \\sin \\theta_2 \\\\\n",
    "        0 & 0\n",
    "        \\end{bmatrix}$ => $f(q,\\dot{q}) = C(q,\\dot{q})\\dot{q}$\n",
    "        \n",
    "- $g(q) = \\begin{bmatrix} 0 \\\\ b m_2 g \\sin \\theta_2 \\end{bmatrix}$\n",
    "\n",
    "- $G(q)u = \\begin{bmatrix} F \\\\ T \\end{bmatrix}$"
   ]
  },
  {
   "cell_type": "markdown",
   "metadata": {},
   "source": [
    "## Solving those systems with DAEs solvers"
   ]
  },
  {
   "cell_type": "code",
   "execution_count": 1,
   "metadata": {},
   "outputs": [],
   "source": [
    "# import solvers\n",
    "from solvers.bdfSolver import BDFModified\n",
    "from solvers.Final import SABMScipy\n",
    "from solvers.radau import RadauModified\n",
    "from solvers.rosScipyFinal import Rosenbrock"
   ]
  },
  {
   "cell_type": "code",
   "execution_count": 2,
   "metadata": {},
   "outputs": [],
   "source": [
    "# import other useful modules\n",
    "from time import time\n",
    "from matplotlib import pyplot as plt\n",
    "from scipy.integrate import solve_ivp\n",
    "from scipy.optimize import fsolve\n",
    "import numpy as np"
   ]
  },
  {
   "cell_type": "markdown",
   "metadata": {},
   "source": [
    "Declare the constants of the robot manipulator problem:"
   ]
  },
  {
   "cell_type": "code",
   "execution_count": 3,
   "metadata": {},
   "outputs": [],
   "source": [
    "m1 = 1\n",
    "m2 = 1\n",
    "g = 9.81\n",
    "F = lambda t : 0 # force and torque applied can depend on time\n",
    "T = lambda t : 0\n",
    "I1 = 1\n",
    "I2 = 1\n",
    "a = 1 \n",
    "b = 1\n",
    "\n",
    "tspan = [0, 10]"
   ]
  },
  {
   "cell_type": "markdown",
   "metadata": {},
   "source": [
    "Find the initial condition :"
   ]
  },
  {
   "cell_type": "code",
   "execution_count": 4,
   "metadata": {},
   "outputs": [
    {
     "ename": "ValueError",
     "evalue": "too many values to unpack (expected 2)",
     "output_type": "error",
     "traceback": [
      "\u001b[1;31m---------------------------------------------------------------------------\u001b[0m",
      "\u001b[1;31mValueError\u001b[0m                                Traceback (most recent call last)",
      "\u001b[1;32m<ipython-input-4-8a328527cfb5>\u001b[0m in \u001b[0;36m<module>\u001b[1;34m\u001b[0m\n\u001b[0;32m      6\u001b[0m \u001b[1;33m\u001b[0m\u001b[0m\n\u001b[0;32m      7\u001b[0m \u001b[0mz\u001b[0m \u001b[1;33m=\u001b[0m \u001b[0mfsolve\u001b[0m\u001b[1;33m(\u001b[0m\u001b[0mequations\u001b[0m\u001b[1;33m,\u001b[0m \u001b[1;33m[\u001b[0m\u001b[1;36m0\u001b[0m\u001b[1;33m,\u001b[0m \u001b[1;36m0\u001b[0m\u001b[1;33m]\u001b[0m\u001b[1;33m,\u001b[0m \u001b[0mfull_output\u001b[0m\u001b[1;33m=\u001b[0m\u001b[1;32mTrue\u001b[0m\u001b[1;33m)\u001b[0m\u001b[1;33m\u001b[0m\u001b[1;33m\u001b[0m\u001b[0m\n\u001b[1;32m----> 8\u001b[1;33m \u001b[0mlamb3\u001b[0m\u001b[1;33m,\u001b[0m \u001b[0mlamb4\u001b[0m \u001b[1;33m=\u001b[0m \u001b[0mz\u001b[0m\u001b[1;33m\u001b[0m\u001b[1;33m\u001b[0m\u001b[0m\n\u001b[0m\u001b[0;32m      9\u001b[0m \u001b[0my0\u001b[0m \u001b[1;33m=\u001b[0m \u001b[1;33m[\u001b[0m\u001b[0mx1\u001b[0m\u001b[1;33m,\u001b[0m \u001b[1;36m0\u001b[0m\u001b[1;33m,\u001b[0m \u001b[0mx1\u001b[0m\u001b[1;33m+\u001b[0m\u001b[0ma\u001b[0m\u001b[1;33m+\u001b[0m\u001b[0mb\u001b[0m\u001b[1;33m*\u001b[0m\u001b[0mnp\u001b[0m\u001b[1;33m.\u001b[0m\u001b[0msin\u001b[0m\u001b[1;33m(\u001b[0m\u001b[0mtheta\u001b[0m\u001b[1;33m)\u001b[0m\u001b[1;33m,\u001b[0m \u001b[1;36m0\u001b[0m\u001b[1;33m,\u001b[0m \u001b[1;33m-\u001b[0m\u001b[0mb\u001b[0m\u001b[1;33m*\u001b[0m\u001b[0mnp\u001b[0m\u001b[1;33m.\u001b[0m\u001b[0mcos\u001b[0m\u001b[1;33m(\u001b[0m\u001b[0mtheta\u001b[0m\u001b[1;33m)\u001b[0m\u001b[1;33m,\u001b[0m \u001b[1;36m0\u001b[0m\u001b[1;33m,\u001b[0m \u001b[0mtheta\u001b[0m\u001b[1;33m,\u001b[0m \u001b[1;36m0\u001b[0m\u001b[1;33m,\u001b[0m \u001b[0mlamb3\u001b[0m\u001b[1;33m,\u001b[0m \u001b[0mlamb4\u001b[0m\u001b[1;33m]\u001b[0m\u001b[1;33m\u001b[0m\u001b[1;33m\u001b[0m\u001b[0m\n",
      "\u001b[1;31mValueError\u001b[0m: too many values to unpack (expected 2)"
     ]
    }
   ],
   "source": [
    "theta = np.pi/3\n",
    "x1 = 0.5\n",
    "def equations(z):\n",
    "    return np.array([ z[0]/m2 - b*((-z[0]*b*np.cos(theta) - z[1]*b*np.sin(theta) + T(0))/I2)*np.cos(theta) - (F(0) - z[0])/m1,\n",
    "                      (-m2*g + z[1])/m2 - b*(-z[0]*b*np.cos(theta) - z[1]*b*np.sin(theta) + T(0))/I2 * np.sin(theta)])\n",
    "\n",
    "z = fsolve(equations, [0, 0])\n",
    "lamb3, lamb4 = z\n",
    "y0 = [x1, 0, x1+a+b*np.sin(theta), 0, -b*np.cos(theta), 0, theta, 0, lamb3, lamb4]"
   ]
  },
  {
   "cell_type": "markdown",
   "metadata": {},
   "source": [
    "Create the function describing the DAEs systems such that $M \\dot{y} = f(t,y)$:"
   ]
  },
  {
   "cell_type": "code",
   "execution_count": null,
   "metadata": {},
   "outputs": [],
   "source": [
    "def f_robot_index3(t, y):\n",
    "    [x1, u, x2, v, y2, w, theta, alpha, lambda3, lambda4] = y\n",
    "\n",
    "    return np.array([u,\n",
    "                     (F(t) - lambda3)/m1,\n",
    "                     v,\n",
    "                     lambda3/m2,\n",
    "                     w,\n",
    "                     (-m2*g + lambda4)/m2,\n",
    "                     alpha,\n",
    "                     (-lambda3*b*np.cos(theta) - lambda4*b*np.sin(theta) + T(t))/I2,\n",
    "                     x2 - b*np.sin(theta) - x1 - a,\n",
    "                     y2 + b*np.cos(theta)])\n",
    "\n",
    "def f_robot_index1(t, y):\n",
    "    [x1, u, x2, v, y2, w, theta, alpha, lambda3, lambda4] = y\n",
    "\n",
    "    return np.array([u, \n",
    "                     (F(t) - lambda3)/m1,\n",
    "                     v,\n",
    "                     lambda3/m2,\n",
    "                     w,\n",
    "                     (-m2*g + lambda4)/m2,\n",
    "                     alpha,\n",
    "                     (-lambda3*b*np.cos(theta) - lambda4*b*np.sin(theta) + T(t))/I2,\n",
    "                     lambda3/m2 - b*((-lambda3*b*np.cos(theta) - lambda4*b*np.sin(theta) + T(t))/I2)*np.cos(theta) + b*np.sin(theta)*alpha**2 - (F(t) - lambda3)/m1,\n",
    "                     (-m2*g + lambda4)/m2 - b*((-lambda3*b*np.cos(theta) - lambda4*b*np.sin(theta) + T(t))/I2)*np.sin(theta) - b*np.cos(theta)*alpha**2])\n",
    "\n",
    "# mass matrix\n",
    "M = np.eye(10)\n",
    "M[-1, -1] = 0\n",
    "M[-2, -2] = 0 \n",
    "\n",
    "# functions of the rhs linked to the derivatives, it's the rhs of the ODE part of the DAE system\n",
    "def fun(t, y, x):\n",
    "    [x1, u, x2, v, y2, w, theta, alpha] = y\n",
    "    [lambda3, lambda4] = x\n",
    "\n",
    "    return np.array([u, \n",
    "                     (F(t) - lambda3)/m1,\n",
    "                     v,\n",
    "                     lambda3/m2,\n",
    "                     w,\n",
    "                     (-m2*g + lambda4)/m2,\n",
    "                     alpha,\n",
    "                     (-lambda3*b*np.cos(theta) - lambda4*b*np.sin(theta) + T(t))/I2])\n",
    "\n",
    "# algebraic constraints\n",
    "def gun(t, y, x):\n",
    "    [x1, u, x2, v, y2, w, theta, alpha] = y\n",
    "    [lambda3, lambda4] = x\n",
    "    \n",
    "    return np.array([lambda3/m2 - b*((-lambda3*b*np.cos(theta) - lambda4*b*np.sin(theta) + T(t))/I2)*np.cos(theta) + b*np.sin(theta)*alpha**2 - (F(t) - lambda3)/m1,\n",
    "                     (-m2*g + lambda4)/m2 - b*((-lambda3*b*np.cos(theta) - lambda4*b*np.sin(theta) + T(t))/I2)*np.sin(theta) - b*np.cos(theta)*alpha**2])\n",
    "    "
   ]
  },
  {
   "cell_type": "markdown",
   "metadata": {},
   "source": [
    "Parameters of the DAEs solvers similar to those scipy solve_ivp:"
   ]
  },
  {
   "cell_type": "code",
   "execution_count": null,
   "metadata": {},
   "outputs": [],
   "source": [
    "kwargsBDF = {\n",
    "    'fun': f_robot_index1,\n",
    "    't_span': tspan,\n",
    "    'y0': y0,\n",
    "    'mass': M,\n",
    "    'method': BDFModified,\n",
    "    'rtol': 1e-3,\n",
    "    'atol': 1e-3,\n",
    "    'first_step': 1e-8,\n",
    "}\n",
    "\n",
    "\n",
    "kwargsRadau = {\n",
    "    'fun': f_robot_index3,\n",
    "    't_span': tspan,\n",
    "    'y0': y0,\n",
    "    'mass': M,\n",
    "    'method': RadauModified,\n",
    "    'rtol': 1e-3,\n",
    "    'atol': 1e-3,\n",
    "    'dense_output': False\n",
    "}\n",
    "\n",
    "kwargsSEABM = {\n",
    "    'fun': fun,\n",
    "    't_span': tspan,\n",
    "    'y0': y0,\n",
    "    'method': SABMScipy,\n",
    "    'gun': gun,\n",
    "    'num_diff': 8,\n",
    "    'order': 2,\n",
    "    'atol': 1e-3,\n",
    "    'rtol': 1e-3,\n",
    "    'mode': 'Implicit'\n",
    "}"
   ]
  },
  {
   "cell_type": "markdown",
   "metadata": {},
   "source": [
    "Solve the DAEs:"
   ]
  },
  {
   "cell_type": "code",
   "execution_count": null,
   "metadata": {},
   "outputs": [],
   "source": [
    "kwargs = kwargsRadau\n",
    "\n",
    "before = time()\n",
    "sol = solve_ivp(**kwargs)\n",
    "print(f'Success: {sol.success}')\n",
    "print(f'Temps de calcul : {time()-before}')\n",
    "t = sol.t\n",
    "\n",
    "x1 = sol.y[0,:]\n",
    "x2 = sol.y[2,:]\n",
    "y2 = sol.y[4,:]\n",
    "theta = sol.y[6,:]"
   ]
  },
  {
   "cell_type": "markdown",
   "metadata": {},
   "source": [
    "Solve the ODEs for the reference solution:"
   ]
  },
  {
   "cell_type": "code",
   "execution_count": null,
   "metadata": {},
   "outputs": [],
   "source": [
    "def solve_ODE():\n",
    "    def ode(t, y):\n",
    "        \n",
    "        x1 = y[0]\n",
    "        theta = y[1]\n",
    "        u = y[2]\n",
    "        v = y[3]\n",
    "        \n",
    "        M = np.array([[m1+m2, m2*b*np.cos(theta)],\n",
    "                      [m2*b*np.cos(theta), I2 + m2*b**2]])\n",
    "        C = np.array([[0, -m2*b*v*np.sin(theta)],\n",
    "                      [0,0]])\n",
    "        g_q = np.array([[0],\n",
    "                        [b*m2*g*np.sin(theta)]])\n",
    "        G = np.array([[F(t)], \n",
    "                      [T(t)]])\n",
    "        \n",
    "        q_dot = np.array([[u],[v]])\n",
    "        v_dot = np.linalg.inv(M) @ (-C @ q_dot - g_q + G)\n",
    "\n",
    "        return np.array([q_dot[0,0], q_dot[1,0], v_dot[0,0], v_dot[1,0]])\n",
    "\n",
    "    y0 = np.array([0.5, np.pi/3, 0, 0])\n",
    "    sol_ODE = solve_ivp(fun=ode, t_span=[tspan[0], sol.t[-1]], y0=y0, rtol=1e-12,\n",
    "                        atol=1e-12, max_step=tspan[-1]/10, method='DOP853', t_eval=sol.t)\n",
    "    x1 = sol_ODE.y[0,:]\n",
    "    theta = sol_ODE.y[1, :]\n",
    "    x2 = b*np.sin(theta) + x1 + a\n",
    "    y2 = -b*np.cos(theta)\n",
    "    return sol_ODE.t, x1, x2, y2, theta\n",
    "\n",
    "t_ODE,x1_ODE,x2_ODE,y2_ODE, theta_ODE = solve_ODE()"
   ]
  },
  {
   "cell_type": "markdown",
   "metadata": {},
   "source": [
    "Plot the $x_1$, $x_2$, $y_2$ and $\\theta_2$ coordinates:"
   ]
  },
  {
   "cell_type": "code",
   "execution_count": null,
   "metadata": {},
   "outputs": [],
   "source": [
    "plt.figure()\n",
    "plt.plot(t, x1, label=\"x1\")\n",
    "plt.plot(t, x2, label=\"x2\")\n",
    "plt.plot(t, y2, label=\"y2\")\n",
    "plt.xlabel(\"Time [s]\")\n",
    "plt.ylabel(\"Position [m]\")\n",
    "plt.grid()\n",
    "plt.legend()\n",
    "plt.show()"
   ]
  },
  {
   "cell_type": "code",
   "execution_count": null,
   "metadata": {},
   "outputs": [],
   "source": [
    "plt.figure()\n",
    "plt.plot(t, theta*360/(2*np.pi), label=r\"$\\theta_2$\")\n",
    "plt.xlabel(\"Time [s]\")\n",
    "plt.ylabel(\"Amplitude [°]\")\n",
    "plt.grid()\n",
    "plt.legend()\n",
    "plt.show()"
   ]
  },
  {
   "cell_type": "markdown",
   "metadata": {},
   "source": [
    "Plot of the error in comparaison with the ODE solution:"
   ]
  },
  {
   "cell_type": "code",
   "execution_count": null,
   "metadata": {},
   "outputs": [],
   "source": [
    "plt.figure()\n",
    "plt.plot(sol.t, abs(x1 - x1_ODE), label='Error in x1')\n",
    "plt.plot(sol.t, abs(x2 - x2_ODE), label='Error in x2')\n",
    "plt.plot(sol.t, abs(y2 - y2_ODE), label='Error in y2')\n",
    "plt.plot(sol.t, abs(theta - theta_ODE), label=r'Error in $\\theta$')\n",
    "plt.plot()\n",
    "plt.title(\n",
    "    f'Error plot of {kwargs[\"method\"].__name__} method for the robot example')\n",
    "plt.xlabel('Time [s]')\n",
    "plt.ylabel('Error [m]')\n",
    "plt.grid()\n",
    "plt.legend()\n",
    "plt.show()"
   ]
  }
 ],
 "metadata": {
  "kernelspec": {
   "display_name": "Python 3",
   "language": "python",
   "name": "python3"
  },
  "language_info": {
   "codemirror_mode": {
    "name": "ipython",
    "version": 3
   },
   "file_extension": ".py",
   "mimetype": "text/x-python",
   "name": "python",
   "nbconvert_exporter": "python",
   "pygments_lexer": "ipython3",
   "version": "3.7.4"
  }
 },
 "nbformat": 4,
 "nbformat_minor": 2
}
