{
 "cells": [
  {
   "cell_type": "markdown",
   "metadata": {},
   "source": [
    "# Modelling a continuous stirred tank reactor controlled by a PID controller\n",
    "\n",
    "\n",
    "## Mathematical modelling\n",
    "\n",
    "![cstr](img/cstr.png)"
   ]
  },
  {
   "cell_type": "markdown",
   "metadata": {},
   "source": [
    "In this tank, we have a isomerization reaction and the tank's input is a feed stream of constant concentration $C_0$ and constant temperature $T_0$. The temperature can be controller through the circuit of temperature $T_C$. This temperature is the control variable for which the PID is designed. The temperature and concentration of the tank and the output are the state variables $T$ and $C$. We want $C$ to reach a setpoint $C^*$.\n",
    "\n",
    "\n",
    "With the Arrhenius' law of reaction, we have the following differential equations:\n",
    "\\begin{align*}\n",
    "   C' &= K_1 (C_0 - C) - K_3 exp \\left( \\frac{-K_4}{T} \\right) C \\\\\n",
    "    T' &= K_1(T_0 - T) + K_2 K_3 exp \\left( \\frac{-K_4}{T} \\right) C - K_3 (T-T_C) \\\\\n",
    "    T_C &= K_p e(t) + K_i \\int_{0}^{t} e(\\tau) d\\tau + K_d e'(t)\n",
    "\\end{align*}\n",
    "where $e(t) = C - C^*$. This system is a index 1 DAEs system that can be written as follows:\n",
    "\n",
    "\\begin{align*}\n",
    "   C' &= K_1 (C_0 - C) - K_3 exp \\left( \\frac{-K_4}{T} \\right) C \\\\\n",
    "    T' &= K_1(T_0 - T) + K_2 K_3 exp \\left( \\frac{-K_4}{T} \\right) C - K_3 (T-T_C) \\\\\n",
    "    I' &= e(t)\\\\\n",
    "    T_C &= K_p e(t) + K_i I(t) + K_d e'(t)\n",
    "\\end{align*}\n",
    "\n",
    "Constants have been taken from the [article](https://doi.org/10.1093/imamci/dnz015) of Raymundo Juarez et al. which is referenced at the end of this notebook."
   ]
  },
  {
   "cell_type": "markdown",
   "metadata": {},
   "source": [
    "By the deriving the constraint we get the ODEs system:\n",
    "\\begin{align*}\n",
    "   C' &= K_1 (C_0 - C) - K_3 exp \\left( \\frac{-K_4}{T} \\right) C \\\\\n",
    "    T' &= K_1(T_0 - T) + K_2 K_3 exp \\left( \\frac{-K_4}{T} \\right) C - K_3 (T-T_C) \\\\\n",
    "    T_C' &= K_p e'(t) + K_i e(t) + K_d e''(t)\n",
    "\\end{align*}\n",
    "in which $e'(t) = C'$ and $e''(t)$ is obtained by deriving the right hand side of the first equation."
   ]
  },
  {
   "cell_type": "markdown",
   "metadata": {},
   "source": [
    "## Solving those systems with DAEs solvers"
   ]
  },
  {
   "cell_type": "code",
   "execution_count": 1,
   "metadata": {},
   "outputs": [],
   "source": [
    "# import solvers\n",
    "from solvers.bdfSolver import BDFModified\n",
    "from solvers.Final import SABMScipy\n",
    "from solvers.radau import RadauModified\n",
    "from solvers.rosScipyFinal import Rosenbrock"
   ]
  },
  {
   "cell_type": "code",
   "execution_count": 2,
   "metadata": {},
   "outputs": [],
   "source": [
    "# import other useful modules\n",
    "from time import time\n",
    "from matplotlib import pyplot as plt\n",
    "from scipy.integrate import solve_ivp\n",
    "import numpy as np"
   ]
  },
  {
   "cell_type": "markdown",
   "metadata": {},
   "source": [
    "Declare the constants of our CSTR problem:"
   ]
  },
  {
   "cell_type": "code",
   "execution_count": 3,
   "metadata": {},
   "outputs": [],
   "source": [
    "qr = 0.08  # [m^3· s^-1]\n",
    "Vr = 1.2  # [m^3]\n",
    "h1 = 4.8 * 10**4  # [kJ · kmol^-1]\n",
    "rhor = 985  # [kg · m^-3]\n",
    "cpr = 4.05  # [kJ · kg^-1 · K^-1]\n",
    "U = 43.5  # [kJ · sec^-1 m^-2 K^-1]\n",
    "Ar = 5.5  # [m^2]\n",
    "\n",
    "K1 = qr/Vr\n",
    "K2 = h1/(rhor*cpr)\n",
    "K3 = (Ar*U)/(Vr*rhor*cpr)\n",
    "K4 = 1347       # [K]\n",
    "\n",
    "C0 = 150\n",
    "T0 = 600\n",
    "\n",
    "sp = 140\n",
    "Kp = 5\n",
    "Ki = 1"
   ]
  },
  {
   "cell_type": "markdown",
   "metadata": {},
   "source": [
    "Create the function describing the DAEs systems such that $M \\dot{y} = f(t,y)$:"
   ]
  },
  {
   "cell_type": "code",
   "execution_count": 4,
   "metadata": {},
   "outputs": [],
   "source": [
    "# right hand side (rhs) of the index 1 DAEs system\n",
    "def cstrdae(t, y):\n",
    "    C, T, I, TC = y\n",
    "    return np.array([K1*(C0-C) - K3*np.exp(-K4/T)*C,\n",
    "                     K1*(T0-T) + K2*K3*np.exp(-K4/T)*C - K3*(T-TC),\n",
    "                     C-sp,\n",
    "                     TC - Kp*(C-sp) - Ki*I])\n",
    "\n",
    "# mass matrix\n",
    "M = np.eye(4)\n",
    "M[-1, -1] = 0\n",
    "\n",
    "# rhs of the ODEs part of the DAEs system\n",
    "def fun(t, y, x):\n",
    "    C, T, I = y\n",
    "    TC = x[0]\n",
    "    return np.array([K1*(C0-C) - K3*np.exp(-K4/T)*C,\n",
    "                     K1*(T0-T) + K2*K3*np.exp(-K4/T)*C - K3*(T-TC),\n",
    "                     C-sp])\n",
    "\n",
    "# constraint\n",
    "def gun(t, y, x):\n",
    "    C, T, I = y\n",
    "    TC = x[0]\n",
    "    return np.array([TC - Kp*(C-sp) - Ki*I])"
   ]
  },
  {
   "cell_type": "markdown",
   "metadata": {},
   "source": [
    "Initial conditions:"
   ]
  },
  {
   "cell_type": "code",
   "execution_count": 6,
   "metadata": {},
   "outputs": [],
   "source": [
    "c0 = C0+100\n",
    "t0 = T0-150\n",
    "tc0 = Kp*(c0-sp)\n",
    "\n",
    "y0 = [c0, t0, 0, tc0]\n",
    "tspan = [0, 200]"
   ]
  },
  {
   "cell_type": "markdown",
   "metadata": {},
   "source": [
    "Parameters of the DAEs solvers similar to those scipy solve_ivp:"
   ]
  },
  {
   "cell_type": "code",
   "execution_count": 7,
   "metadata": {},
   "outputs": [],
   "source": [
    "kwargsBDF = {\n",
    "    'fun': cstrdae,\n",
    "    't_span': tspan,\n",
    "    'y0': y0,\n",
    "    'mass': M,\n",
    "    'method': BDFModified,\n",
    "    'rtol': 1e-5,\n",
    "    'atol': 1e-5,\n",
    "    'first_step': 1e-8,\n",
    "}\n",
    "\n",
    "\n",
    "kwargsRadau = {\n",
    "    'fun': cstrdae,\n",
    "    't_span': tspan,\n",
    "    'y0': y0,\n",
    "    'mass': M,\n",
    "    'method': RadauModified,\n",
    "    'rtol': 1e-5,\n",
    "    'atol': 1e-5,\n",
    "    'dense_output': False\n",
    "}\n",
    "\n",
    "kwargsSEABM = {\n",
    "    'fun': fun,\n",
    "    't_span': tspan,\n",
    "    'y0': y0,\n",
    "    'method': SABMScipy,\n",
    "    'gun': gun,\n",
    "    'num_diff': 3,\n",
    "    'order': 2,\n",
    "    'atol': 1e-5,\n",
    "    'rtol': 1e-5,\n",
    "    'mode': 'Implicit'\n",
    "}"
   ]
  },
  {
   "cell_type": "markdown",
   "metadata": {},
   "source": [
    "Solve the DAEs system using the scipy solve_ivp function:"
   ]
  },
  {
   "cell_type": "code",
   "execution_count": 8,
   "metadata": {},
   "outputs": [
    {
     "name": "stdout",
     "output_type": "stream",
     "text": [
      "Success: True\n",
      "Temps de calcul : 0.026926517486572266\n"
     ]
    }
   ],
   "source": [
    "kwargs = kwargsRadau\n",
    "\n",
    "before = time()\n",
    "sol = solve_ivp(**kwargs)\n",
    "print(f'Success: {sol.success}')\n",
    "print(f'Temps de calcul : {time()-before}')\n",
    "t = sol.t\n",
    "\n",
    "C = sol.y[0, :]\n",
    "T = sol.y[1, :]\n",
    "TC = sol.y[3, :]"
   ]
  },
  {
   "cell_type": "markdown",
   "metadata": {},
   "source": [
    "Solve the ODEs system:"
   ]
  },
  {
   "cell_type": "code",
   "execution_count": 9,
   "metadata": {},
   "outputs": [],
   "source": [
    "def solve_ODE():\n",
    "    def cstrode(t, y):\n",
    "        C, T, TC = y\n",
    "        dCdt  = K1*(C0-C) - K3*np.exp(-K4/T)*C\n",
    "        dTdt  = K1*(T0-T) + K2*K3*np.exp(-K4/T)*C - K3*(T-TC)\n",
    "        dTCdt = Kp*dCdt + Ki*(C-sp) \n",
    "        return np.array([dCdt, dTdt, dTCdt])\n",
    "\n",
    "    y0 = np.array([c0, t0, tc0])\n",
    "    sol_ODE = solve_ivp(fun=cstrode, t_span=[0, sol.t[-1]], y0=y0, rtol=1e-12,\n",
    "                        atol=1e-12, method='DOP853', t_eval=sol.t)\n",
    "    \n",
    "    return sol_ODE.t, sol_ODE.y[0, :], sol_ODE.y[1, :], sol_ODE.y[2, :]\n",
    "\n",
    "t_ODE, C_ODE, T_ODE, TC_ODE = solve_ODE()"
   ]
  },
  {
   "cell_type": "markdown",
   "metadata": {},
   "source": [
    "Plot the evolution of the system's variables over time:"
   ]
  },
  {
   "cell_type": "code",
   "execution_count": 10,
   "metadata": {},
   "outputs": [
    {
     "data": {
      "image/png": "[encoded data removed]",
      "text/plain": [
       "<Figure size 432x288 with 1 Axes>"
      ]
     },
     "metadata": {
      "needs_background": "light"
     },
     "output_type": "display_data"
    }
   ],
   "source": [
    "plt.figure()\n",
    "plt.plot(t, C, label=\"C\")\n",
    "plt.plot(t, T, label=\"T\")\n",
    "plt.plot(t, TC, label=\"TC\")\n",
    "plt.xlabel(\"temps [s]\")\n",
    "plt.grid()\n",
    "plt.legend()\n",
    "plt.show()"
   ]
  },
  {
   "cell_type": "markdown",
   "metadata": {},
   "source": [
    "Plot the error of our DAEs solver:"
   ]
  },
  {
   "cell_type": "code",
   "execution_count": 11,
   "metadata": {},
   "outputs": [
    {
     "data": {
      "image/png": "[encoded data removed]",
      "text/plain": [
       "<Figure size 432x288 with 1 Axes>"
      ]
     },
     "metadata": {
      "needs_background": "light"
     },
     "output_type": "display_data"
    }
   ],
   "source": [
    "plt.figure()\n",
    "plt.semilogy(t, abs(C_ODE - C), label='Error in $C$')\n",
    "plt.semilogy(t, abs(T_ODE - T), label='Error in $T$')\n",
    "plt.semilogy(t, abs(TC_ODE - TC), label='Error in $TC$')\n",
    "plt.title(\n",
    "    f'Error plot of {kwargs[\"method\"].__name__} method for the cstr example')\n",
    "plt.xlabel('Time [s]')\n",
    "plt.ylabel('Error')\n",
    "plt.grid()\n",
    "plt.legend()\n",
    "plt.show()"
   ]
  },
  {
   "cell_type": "markdown",
   "metadata": {},
   "source": [
    "## References\n",
    "\n",
    "Raymundo Juarez, Vadim Azhmyakov, A Tadeo Espinoza, Francisco G Salas, An implicit class of continuous dynamical system with data-sample outputs: a robust approach, IMA Journal of Mathematical Control and Information, Volume 37, Issue 2, June 2020, Pages 589–606, https://doi.org/10.1093/imamci/dnz015"
   ]
  }
 ],
 "metadata": {
  "interpreter": {
   "hash": "bf512566ae9d065e75d76884dd4d3df545333ba35243aa7a394deb5ff4e39579"
  },
  "kernelspec": {
   "display_name": "Python 3.8.0 64-bit",
   "language": "python",
   "name": "python3"
  },
  "language_info": {
   "codemirror_mode": {
    "name": "ipython",
    "version": 3
   },
   "file_extension": ".py",
   "mimetype": "text/x-python",
   "name": "python",
   "nbconvert_exporter": "python",
   "pygments_lexer": "ipython3",
   "version": "3.8.0"
  },
  "orig_nbformat": 4
 },
 "nbformat": 4,
 "nbformat_minor": 2
}
